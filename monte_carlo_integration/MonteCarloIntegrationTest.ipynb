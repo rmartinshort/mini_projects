{
 "cells": [
  {
   "cell_type": "markdown",
   "metadata": {},
   "source": [
    "### Attempt to do Monte Carlo integration in 1D and then in multiple dimensions\n",
    "\n",
    "The 1D case is fast, but the multi-D one works but is much slower than scipy nquad. Needs more work"
   ]
  },
  {
   "cell_type": "code",
   "execution_count": 1,
   "metadata": {},
   "outputs": [],
   "source": [
    "import numpy as np\n",
    "from scipy.integrate import quad, nquad\n",
    "import matplotlib.pyplot as plt"
   ]
  },
  {
   "cell_type": "markdown",
   "metadata": {},
   "source": [
    "#### Functions to test"
   ]
  },
  {
   "cell_type": "code",
   "execution_count": 2,
   "metadata": {},
   "outputs": [],
   "source": [
    "def f1(x):\n",
    "    return (15*x**3 + 21*x**2 + 41*x + 3)**(1/4) * (np.exp(-0.5*x))\n",
    "\n",
    "def f1_mod(X):\n",
    "    '''Modified for use with anyD version'''\n",
    "    return (15*X[0]**3 + 21*X[0]**2 + 41*X[0] + 3)**(1/4) * (np.exp(-0.5*X[0]))\n",
    "\n",
    "def f2(x):\n",
    "    return x**3 + x**2\n",
    "\n",
    "def f2_mod(X):\n",
    "    '''Modified for use with anyD version'''\n",
    "    return X[0]**3 + X[0]**2\n",
    "\n",
    "def f2_db(x, y):\n",
    "    return x*y**2\n",
    "\n",
    "def f2_db2(X):\n",
    "    '''Modified for use with anyD version'''\n",
    "    return X[0]*X[1]**2"
   ]
  },
  {
   "cell_type": "markdown",
   "metadata": {},
   "source": [
    "#### Integration functions"
   ]
  },
  {
   "cell_type": "code",
   "execution_count": 3,
   "metadata": {},
   "outputs": [],
   "source": [
    "def monte_carlo_integrate_1D(f,lims,n=1000,subset_number=10):\n",
    "    \n",
    "    a = lims[0]\n",
    "    b = lims[1]\n",
    "    \n",
    "    subsets = np.arange(0,n+1,n/subset_number)\n",
    "    steps = n/subset_number\n",
    "    u = np.zeros(n)\n",
    "    \n",
    "    for i in range(subset_number):\n",
    "        start, end  = int(subsets[i]), int(subsets[i+1])\n",
    "        u[start:end] = np.random.uniform(low=i/subset_number,high=(i+1)/subset_number,size=end-start)\n",
    "    \n",
    "    np.random.shuffle(u)\n",
    "    \n",
    "    u_func = f(a+(b-a)*u)\n",
    "    \n",
    "    return ((b-a)/n)*u_func.sum()\n",
    "    \n",
    "\n",
    "def monte_carlo_integrate_anyD(f,lims,n=1000):\n",
    "    \n",
    "    if len(np.shape(lims)) == 1:\n",
    "        lims = lims.reshape(1,-1)\n",
    "        \n",
    "    #independent variables\n",
    "    random_samps = []\n",
    "    V = 1\n",
    "    for i in range(lims.shape[0]):\n",
    "        \n",
    "        a = lims[i,0] #lower lim\n",
    "        b = lims[i,1] #upper lim\n",
    "        V *= (b-a)\n",
    "        v = np.random.uniform(low=a,high=b,size=n)\n",
    "        random_samps.append(v)\n",
    "        \n",
    "    random_samps= np.array(random_samps)\n",
    "    \n",
    "    #dependent variable\n",
    "    #randomly choose y values between min(f(x)) and max(f(x))\n",
    "    y = np.random.uniform(low=min(min(f(random_samps)),0),high=max(f(random_samps)),size=n)\n",
    "    #find the area \n",
    "    V = (max(y)-min(y))*V\n",
    "    #find the fraction of y points that fall below f(x) anf multiply by total area\n",
    "    result = V * sum(abs(y) < abs(f(random_samps)))/n\n",
    "    \n",
    "    return result\n",
    "      "
   ]
  },
  {
   "cell_type": "markdown",
   "metadata": {},
   "source": [
    "#### Testing"
   ]
  },
  {
   "cell_type": "code",
   "execution_count": 12,
   "metadata": {},
   "outputs": [
    {
     "data": {
      "text/plain": [
       "5.865727440971112"
      ]
     },
     "execution_count": 12,
     "metadata": {},
     "output_type": "execute_result"
    }
   ],
   "source": [
    "monte_carlo_integrate_anyD(f1_mod,np.array([0,4]))"
   ]
  },
  {
   "cell_type": "code",
   "execution_count": 13,
   "metadata": {},
   "outputs": [
    {
     "data": {
      "text/plain": [
       "(5.767433490695931, 5.492382344683848e-10)"
      ]
     },
     "execution_count": 13,
     "metadata": {},
     "output_type": "execute_result"
    }
   ],
   "source": [
    "quad(f1,a=0,b=4)"
   ]
  },
  {
   "cell_type": "code",
   "execution_count": 14,
   "metadata": {},
   "outputs": [
    {
     "data": {
      "text/plain": [
       "5.770454780512381"
      ]
     },
     "execution_count": 14,
     "metadata": {},
     "output_type": "execute_result"
    }
   ],
   "source": [
    "monte_carlo_integrate_1D(f1,np.array([0,4]))"
   ]
  },
  {
   "cell_type": "code",
   "execution_count": 4,
   "metadata": {},
   "outputs": [
    {
     "name": "stdout",
     "output_type": "stream",
     "text": [
      "3.12 ms ± 121 µs per loop (mean ± std. dev. of 7 runs, 100 loops each)\n"
     ]
    }
   ],
   "source": [
    "%%timeit -n100\n",
    "monte_carlo_integrate_anyD(f1_mod,np.array([0,4]))"
   ]
  },
  {
   "cell_type": "code",
   "execution_count": 5,
   "metadata": {},
   "outputs": [
    {
     "name": "stdout",
     "output_type": "stream",
     "text": [
      "368 µs ± 143 µs per loop (mean ± std. dev. of 7 runs, 100 loops each)\n"
     ]
    }
   ],
   "source": [
    "%%timeit -n100 \n",
    "quad(f1,a=0,b=4)"
   ]
  },
  {
   "cell_type": "code",
   "execution_count": 6,
   "metadata": {},
   "outputs": [
    {
     "name": "stdout",
     "output_type": "stream",
     "text": [
      "253 µs ± 34.9 µs per loop (mean ± std. dev. of 7 runs, 100 loops each)\n"
     ]
    }
   ],
   "source": [
    "%%timeit -n100\n",
    "monte_carlo_integrate_1D(f1,np.array([0,4]))"
   ]
  },
  {
   "cell_type": "code",
   "execution_count": 8,
   "metadata": {},
   "outputs": [
    {
     "name": "stdout",
     "output_type": "stream",
     "text": [
      "340 µs ± 90.4 µs per loop (mean ± std. dev. of 7 runs, 100 loops each)\n"
     ]
    }
   ],
   "source": [
    "%%timeit -n100\n",
    "nquad(f2_db, [(0,1), (0,1)])"
   ]
  },
  {
   "cell_type": "code",
   "execution_count": 11,
   "metadata": {},
   "outputs": [
    {
     "name": "stdout",
     "output_type": "stream",
     "text": [
      "2.93 ms ± 130 µs per loop (mean ± std. dev. of 7 runs, 100 loops each)\n"
     ]
    }
   ],
   "source": [
    "%%timeit -n100\n",
    "monte_carlo_integrate_anyD(f2_db2,np.array([[0,1],[0,1]]))"
   ]
  },
  {
   "cell_type": "code",
   "execution_count": null,
   "metadata": {},
   "outputs": [],
   "source": []
  }
 ],
 "metadata": {
  "kernelspec": {
   "display_name": "Python 3",
   "language": "python",
   "name": "python3"
  },
  "language_info": {
   "codemirror_mode": {
    "name": "ipython",
    "version": 3
   },
   "file_extension": ".py",
   "mimetype": "text/x-python",
   "name": "python",
   "nbconvert_exporter": "python",
   "pygments_lexer": "ipython3",
   "version": "3.6.7"
  }
 },
 "nbformat": 4,
 "nbformat_minor": 2
}
