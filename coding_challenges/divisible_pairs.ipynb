{
 "cells": [
  {
   "cell_type": "markdown",
   "metadata": {},
   "source": [
    "Here we want to count the divisible pairs in an array  \n",
    "Question from https://www.geeksforgeeks.org/count-divisible-pairs-array/"
   ]
  },
  {
   "cell_type": "code",
   "execution_count": 1,
   "metadata": {},
   "outputs": [],
   "source": [
    "import numpy as np"
   ]
  },
  {
   "cell_type": "code",
   "execution_count": 2,
   "metadata": {},
   "outputs": [],
   "source": [
    "a = np.array([1,2,3,6,10])"
   ]
  },
  {
   "cell_type": "markdown",
   "metadata": {},
   "source": [
    "Here we loop through all possibilities, but it might also be possible to solve this  \n",
    "using a hash table"
   ]
  },
  {
   "cell_type": "code",
   "execution_count": 6,
   "metadata": {},
   "outputs": [
    {
     "name": "stdout",
     "output_type": "stream",
     "text": [
      "1 2\n",
      "1 3\n",
      "1 6\n",
      "1 10\n",
      "2 6\n",
      "2 10\n",
      "3 6\n",
      "---------------------------------------------\n",
      "7\n"
     ]
    }
   ],
   "source": [
    "n = len(a)\n",
    "count = 0\n",
    "for i in range(n-1):\n",
    "    p1 = a[i]\n",
    "    for j in range(i+1,n):\n",
    "        p2 = a[j]\n",
    "        \n",
    "        if ((p1 % p2 ) == 0) or ((p2 % p1) == 0):\n",
    "            print(p1,p2)\n",
    "            count += 1\n",
    "print('---------------------------------------------')\n",
    "print(count)"
   ]
  }
 ],
 "metadata": {
  "kernelspec": {
   "display_name": "Python 3",
   "language": "python",
   "name": "python3"
  },
  "language_info": {
   "codemirror_mode": {
    "name": "ipython",
    "version": 3
   },
   "file_extension": ".py",
   "mimetype": "text/x-python",
   "name": "python",
   "nbconvert_exporter": "python",
   "pygments_lexer": "ipython3",
   "version": "3.6.4"
  }
 },
 "nbformat": 4,
 "nbformat_minor": 2
}
