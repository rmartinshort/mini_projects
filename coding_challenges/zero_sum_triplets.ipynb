{
 "cells": [
  {
   "cell_type": "markdown",
   "metadata": {},
   "source": [
    "Given an array, we want to print out all triplets with zero sum"
   ]
  },
  {
   "cell_type": "code",
   "execution_count": 8,
   "metadata": {},
   "outputs": [],
   "source": [
    "a = [-1, 2, 3, -2, -3, -1, 0, 4, 1, -2]"
   ]
  },
  {
   "cell_type": "markdown",
   "metadata": {},
   "source": [
    "Most naive solution - look through everything. Will get repeats"
   ]
  },
  {
   "cell_type": "code",
   "execution_count": 12,
   "metadata": {},
   "outputs": [
    {
     "name": "stdout",
     "output_type": "stream",
     "text": [
      "[-1, -1, 2]\n",
      "[-1, 2, -1]\n",
      "[-1, 2, -1]\n",
      "[-1, 3, -2]\n",
      "[-1, 3, -2]\n",
      "[-1, -2, 3]\n",
      "[-1, -3, 4]\n",
      "[-1, -1, 2]\n",
      "[-1, 0, 1]\n",
      "[-1, 4, -3]\n",
      "[-1, 1, 0]\n",
      "[-1, -2, 3]\n",
      "[2, -1, -1]\n",
      "[2, -1, -1]\n",
      "[2, -2, 0]\n",
      "[2, -3, 1]\n",
      "[2, -1, -1]\n",
      "[2, -1, -1]\n",
      "[2, 0, -2]\n",
      "[2, 0, -2]\n",
      "[2, 1, -3]\n",
      "[2, -2, 0]\n",
      "[3, -1, -2]\n",
      "[3, -1, -2]\n",
      "[3, -2, -1]\n",
      "[3, -2, -1]\n",
      "[3, -3, 0]\n",
      "[3, -1, -2]\n",
      "[3, -1, -2]\n",
      "[3, 0, -3]\n",
      "[3, -2, -1]\n",
      "[3, -2, -1]\n",
      "[-2, -1, 3]\n",
      "[-2, 2, 0]\n",
      "[-2, 3, -1]\n",
      "[-2, 3, -1]\n",
      "[-2, -2, 4]\n",
      "[-2, -1, 3]\n",
      "[-2, 0, 2]\n",
      "[-2, 4, -2]\n",
      "[-2, 4, -2]\n",
      "[-2, 1, 1]\n",
      "[-2, -2, 4]\n",
      "[-3, -1, 4]\n",
      "[-3, 2, 1]\n",
      "[-3, 3, 0]\n",
      "[-3, -1, 4]\n",
      "[-3, 0, 3]\n",
      "[-3, 4, -1]\n",
      "[-3, 4, -1]\n",
      "[-3, 1, 2]\n",
      "[-1, -1, 2]\n",
      "[-1, 2, -1]\n",
      "[-1, 2, -1]\n",
      "[-1, 3, -2]\n",
      "[-1, 3, -2]\n",
      "[-1, -2, 3]\n",
      "[-1, -3, 4]\n",
      "[-1, -1, 2]\n",
      "[-1, 0, 1]\n",
      "[-1, 4, -3]\n",
      "[-1, 1, 0]\n",
      "[-1, -2, 3]\n",
      "[0, -1, 1]\n",
      "[0, 2, -2]\n",
      "[0, 2, -2]\n",
      "[0, 3, -3]\n",
      "[0, -2, 2]\n",
      "[0, -3, 3]\n",
      "[0, -1, 1]\n",
      "[0, 0, 0]\n",
      "[0, 1, -1]\n",
      "[0, 1, -1]\n",
      "[0, -2, 2]\n",
      "[4, -1, -3]\n",
      "[4, -2, -2]\n",
      "[4, -2, -2]\n",
      "[4, -3, -1]\n",
      "[4, -3, -1]\n",
      "[4, -1, -3]\n",
      "[4, -2, -2]\n",
      "[4, -2, -2]\n",
      "[1, -1, 0]\n",
      "[1, 2, -3]\n",
      "[1, -2, 1]\n",
      "[1, -3, 2]\n",
      "[1, -1, 0]\n",
      "[1, 0, -1]\n",
      "[1, 0, -1]\n",
      "[1, 1, -2]\n",
      "[1, 1, -2]\n",
      "[1, -2, 1]\n",
      "[-2, -1, 3]\n",
      "[-2, 2, 0]\n",
      "[-2, 3, -1]\n",
      "[-2, 3, -1]\n",
      "[-2, -2, 4]\n",
      "[-2, -1, 3]\n",
      "[-2, 0, 2]\n",
      "[-2, 4, -2]\n",
      "[-2, 4, -2]\n",
      "[-2, 1, 1]\n",
      "[-2, -2, 4]\n",
      "CPU times: user 3.87 ms, sys: 2.53 ms, total: 6.4 ms\n",
      "Wall time: 5.22 ms\n"
     ]
    }
   ],
   "source": [
    "%%time\n",
    "n = len(a)\n",
    "for i in range(n):\n",
    "    p1 = a[i]\n",
    "    for j in range(n):\n",
    "        p2 = a[j]\n",
    "        for k in range(n):\n",
    "            p3 = a[k]\n",
    "            if (p1+p2+p3 == 0):\n",
    "                print([p1,p2,p3])"
   ]
  },
  {
   "cell_type": "markdown",
   "metadata": {},
   "source": [
    "Easy solution: check every combination scanning forwards and report.\n",
    "There may be some repeats here"
   ]
  },
  {
   "cell_type": "code",
   "execution_count": 13,
   "metadata": {},
   "outputs": [
    {
     "name": "stdout",
     "output_type": "stream",
     "text": [
      "[-1, 2, -1]\n",
      "[-1, 3, -2]\n",
      "[-1, 3, -2]\n",
      "[-1, -3, 4]\n",
      "[-1, 0, 1]\n",
      "[2, -2, 0]\n",
      "[2, -3, 1]\n",
      "[2, 0, -2]\n",
      "[3, -2, -1]\n",
      "[3, -3, 0]\n",
      "[3, -1, -2]\n",
      "[-2, 4, -2]\n",
      "[-3, -1, 4]\n",
      "[-1, 0, 1]\n",
      "CPU times: user 416 µs, sys: 153 µs, total: 569 µs\n",
      "Wall time: 441 µs\n"
     ]
    }
   ],
   "source": [
    "%%time\n",
    "n = len(a)\n",
    "for i in range(n-2):\n",
    "    p1 = a[i]\n",
    "    for j in range(i+1,n-1):\n",
    "        p2 = a[j]\n",
    "        for k in range(j+1,n):\n",
    "            p3 = a[k]\n",
    "            if (p1+p2+p3 == 0):\n",
    "                print([p1,p2,p3])\n",
    "            "
   ]
  },
  {
   "cell_type": "markdown",
   "metadata": {},
   "source": [
    "More challenging solution: use a hash table  \n",
    "There should not be any repeated results"
   ]
  },
  {
   "cell_type": "code",
   "execution_count": 14,
   "metadata": {},
   "outputs": [
    {
     "name": "stdout",
     "output_type": "stream",
     "text": [
      "[-1, -2, 3]\n",
      "[-1, -1, 2]\n",
      "[-1, 4, -3]\n",
      "[-1, 1, 0]\n",
      "[2, 0, -2]\n",
      "[2, 1, -3]\n",
      "[3, -1, -2]\n",
      "[3, 0, -3]\n",
      "[-3, 4, -1]\n",
      "[-1, 1, 0]\n",
      "CPU times: user 246 µs, sys: 95 µs, total: 341 µs\n",
      "Wall time: 257 µs\n"
     ]
    }
   ],
   "source": [
    "%%time\n",
    "n = len(a)\n",
    "for i in range(n-2):\n",
    "    p1 = a[i]\n",
    "    #for each element, we want to look at all pair elements and also at all \n",
    "    #cases where the two other elements will equal the negative of the element we're\n",
    "    #considering. To do this, we have to save the elements we've looked through already\n",
    "    #to a hash table\n",
    "    hash_table = []\n",
    "    for j in range(i+1,n-1):\n",
    "        p2 = a[j]\n",
    "        if -(p1+p2) in hash_table:\n",
    "            print([p1,p2,-(p1+p2)])\n",
    "        else:\n",
    "            hash_table.append(p2)"
   ]
  },
  {
   "cell_type": "markdown",
   "metadata": {},
   "source": [
    "Another solution: Using sorting"
   ]
  },
  {
   "cell_type": "code",
   "execution_count": 18,
   "metadata": {},
   "outputs": [
    {
     "name": "stdout",
     "output_type": "stream",
     "text": [
      "[-3, -1, 4]\n",
      "[-3, 0, 3]\n",
      "[-3, 1, 2]\n",
      "[-2, -2, 4]\n",
      "[-2, -1, 3]\n",
      "[-2, 0, 2]\n",
      "[-2, -1, 3]\n",
      "[-2, 0, 2]\n",
      "[-1, -1, 2]\n",
      "[-1, 0, 1]\n",
      "[-1, 0, 1]\n",
      "CPU times: user 317 µs, sys: 299 µs, total: 616 µs\n",
      "Wall time: 353 µs\n"
     ]
    }
   ],
   "source": [
    "%%time \n",
    "n = len(a)\n",
    "a = sorted(a)\n",
    "\n",
    "for i in range(n-2):\n",
    "    p1 = a[i]\n",
    "    \n",
    "    j = i + 1\n",
    "    r = n - 1\n",
    "    while (r > j):\n",
    "        \n",
    "        p2 = a[j]\n",
    "        p3 = a[r]\n",
    "        \n",
    "        #We've found a combination, so update both counters\n",
    "        if (p1+p2+p3 == 0):\n",
    "            print([p1,p2,p3])\n",
    "            j += 1\n",
    "            r -= 1\n",
    "            \n",
    "        #If we haven't found a combination, we want to test \n",
    "        #other options. Since the list is sorted, if p1+p2+p3 > 0\n",
    "        #we want o try a smaller value of p3 so we decrease r\n",
    "        \n",
    "        elif (p1+p2+p3 > 0):\n",
    "            r -= 1\n",
    "        \n",
    "        # If p1 + p2 + p3 < 0, we want to try a larger value of \n",
    "        # p2 so we increase j\n",
    "        else:\n",
    "            j += 1\n",
    "\n",
    "        "
   ]
  }
 ],
 "metadata": {
  "kernelspec": {
   "display_name": "Python 3",
   "language": "python",
   "name": "python3"
  },
  "language_info": {
   "codemirror_mode": {
    "name": "ipython",
    "version": 3
   },
   "file_extension": ".py",
   "mimetype": "text/x-python",
   "name": "python",
   "nbconvert_exporter": "python",
   "pygments_lexer": "ipython3",
   "version": "3.6.4"
  }
 },
 "nbformat": 4,
 "nbformat_minor": 2
}
