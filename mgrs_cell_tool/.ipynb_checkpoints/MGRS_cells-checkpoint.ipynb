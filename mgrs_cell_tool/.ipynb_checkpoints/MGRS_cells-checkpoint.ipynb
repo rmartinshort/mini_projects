{
 "cells": [
  {
   "cell_type": "markdown",
   "metadata": {},
   "source": [
    "Tool for creating polygons for MGRS grid cells.\n",
    "\n",
    "The purpose here is simple - given a point in space, determine its MGRS grid cell and then make a polygon of that cell"
   ]
  },
  {
   "cell_type": "code",
   "execution_count": 116,
   "metadata": {},
   "outputs": [],
   "source": [
    "import mgrs\n",
    "import numpy as np\n",
    "import geopandas as gpd\n",
    "from shapely.geometry import Polygon\n",
    "import folium"
   ]
  },
  {
   "cell_type": "code",
   "execution_count": 117,
   "metadata": {},
   "outputs": [],
   "source": [
    "m = mgrs.MGRS()"
   ]
  },
  {
   "cell_type": "code",
   "execution_count": 212,
   "metadata": {},
   "outputs": [],
   "source": [
    "latitude = 34.5\n",
    "longitude = -104.0\n",
    "mgrs_precision = np.arange(0,2)"
   ]
  },
  {
   "cell_type": "code",
   "execution_count": 213,
   "metadata": {},
   "outputs": [
    {
     "name": "stdout",
     "output_type": "stream",
     "text": [
      "13SEU None None 0\n",
      "13SEU 9 1 1\n"
     ]
    }
   ],
   "source": [
    "for p in mgrs_precision:\n",
    "    c = m.toMGRS(latitude,longitude,MGRSPrecision=p)\n",
    "    base,easting,northing,precision = split_cell(c)\n",
    "    print(base,easting,northing,precision)"
   ]
  },
  {
   "cell_type": "markdown",
   "metadata": {},
   "source": [
    "- 1st component, 13, is the UTM grid zone. There are 60 of them  \n",
    "- 2nd component, EU is the column (E) and row (U) letter of the 100,000 m^2 grid cell withn the UTM zone. Columns go from A-Z (omitting I and O) and rows go from A-V (omitting I and O)\n",
    "- The confusing thing is that its not obvious what the letter code of adjacent cells is going to be, so we'll have to be able to deal with this"
   ]
  },
  {
   "cell_type": "code",
   "execution_count": 214,
   "metadata": {},
   "outputs": [],
   "source": [
    "def split_cell(cellcode):\n",
    "    \n",
    "    decoded_cell = cellcode.decode()\n",
    "    base_comp = decoded_cell[:5]\n",
    "    precision = int((len(decoded_cell) - len(base_comp))/2)\n",
    "    \n",
    "    #Easting is distance in meters from the SW corner of the cell\n",
    "    easting = decoded_cell[5:5+precision]\n",
    "    #Northing is distance in meters from the base of the cell \n",
    "    northing = decoded_cell[5+precision:]\n",
    "    \n",
    "    if len(str(easting)) == 0:\n",
    "        easting = None\n",
    "        northing = None\n",
    "        \n",
    "        return base_comp, easting, northing, precision\n",
    "    \n",
    "    else:\n",
    "        \n",
    "        return base_comp, int(easting.strip()), int(northing.strip()), precision"
   ]
  },
  {
   "cell_type": "code",
   "execution_count": 249,
   "metadata": {},
   "outputs": [],
   "source": [
    "def lon_lat_conversion(lon,lat,distlon,distlat):\n",
    "    \n",
    "    '''Get the coordinates of a new point lon + distlon, lat + distlat'''\n",
    "    \n",
    "    \n",
    "    R = 6.731e6 #earth radius in meters\n",
    "    distance_1_deg_lon = 2*np.pi*R*np.cos(lat*np.pi/180.0)/360.0\n",
    "    distance_1_deg_lat = 2*np.pi*R/360.0\n",
    "    \n",
    "    new_lon = lon + distlon/distance_1_deg_lon\n",
    "    new_lat = lat + distlat/distance_1_deg_lat\n",
    "    \n",
    "    print(distlon,distlat)\n",
    "    print(lat,lon)\n",
    "    print(new_lat,new_lon)\n",
    "    \n",
    "    return new_lon,new_lat\n",
    "\n",
    "\n",
    "def precision_string(p):\n",
    "    \n",
    "    if p <= 1:\n",
    "        return '%i%i'\n",
    "    elif p == 2:\n",
    "        return '%02i%02i'\n",
    "    elif p == 3:\n",
    "        return '%03i%03i'\n",
    "    elif p == 4:\n",
    "        return '%04i%04i'\n",
    "    elif p == 5:\n",
    "        return '%05i%05i'\n",
    "    elif p == 6:\n",
    "        return '%06i%06i'\n",
    "\n",
    "\n",
    "def find_corners(cell):\n",
    "    \n",
    "    # . (lat_NW,lon_NW) -- .(lat_NE,lon_NE)\n",
    "    # |                    |\n",
    "    # |                    | \n",
    "    # |                    |\n",
    "    # . (given) ---------- .(lat_SE,lon_SE)\n",
    "    \n",
    "\n",
    "    basecomp, easting, northing, precision = split_cell(cell)\n",
    "    \n",
    "    #Get the length of the cell side\n",
    "    side_length = 1.1*10000/10**(precision-1)\n",
    "    \n",
    "    if precision > 0:\n",
    "        \n",
    "        #Get the coordinates of the SW corner of the cell\n",
    "        pstring = precision_string(precision)\n",
    "        print(pstring)\n",
    "        cellID = basecomp+pstring+pstring %(easting,northing)\n",
    "        print(cellID)\n",
    "        latitude_SW,longitude_SW = m.toLatLon(cellID.encode())\n",
    "        \n",
    "        #initial attempt to find numerical neighbors (assuming we don't have to extend into the next cell)\n",
    "\n",
    "        east_comp = easting + 1\n",
    "        north_comp = northing + 1\n",
    "    \n",
    "        \n",
    "        #Get the southeast cell coordinates\n",
    "        try:\n",
    "            c_southeast = basecomp+str(east_comp)+str(northing)\n",
    "            latitude_SE, longitude_SE = m.toLatLon(c_southeast.encode())\n",
    "        except:\n",
    "            latitude_SE = None\n",
    "            longitude_SE = None\n",
    "        \n",
    "        #Get the northeast cell coordinates\n",
    "        try:\n",
    "            c_northeast = basecomp+str(east_comp)+str(north_comp)\n",
    "            latitude_NE, longitude_NE = m.toLatLon(c_northeast.encode())\n",
    "        except:\n",
    "            latitude_NE = None\n",
    "            longitude_NE = None\n",
    "        \n",
    "        #Get the northwest cell coordinates\n",
    "        try:\n",
    "            c_northwest = basecomp+str(easting)+str(north_comp)\n",
    "            latitude_NW, longitude_NW = m.toLatLon(c_northwest.encode())\n",
    "        except:\n",
    "            latitude_NW = None\n",
    "            longitude_NW = None\n",
    "            \n",
    "        if len(str(east_comp)) > len(str(easting)):\n",
    "            print('Need to check the ID of eastern adjacent 100,000 m^2 cell')\n",
    "            \n",
    "            nlon,nlat = lon_lat_conversion(longitude_SW,latitude_SW,distlon=side_length,distlat=0)\n",
    "            \n",
    "            #This is the cell directly east of our cell\n",
    "            c = m.toMGRS(nlat,nlon,MGRSPrecision=precision)\n",
    "            latitude_SE, longitude_SE = m.toLatLon(c)\n",
    "            \n",
    "            nlon,nlat = lon_lat_conversion(longitude_SW,latitude_SW,distlon=side_length,distlat=side_length)            \n",
    "            #This is the cell directly north of our cell\n",
    "            c = m.toMGRS(nlat,nlon,MGRSPrecision=precision)\n",
    "            latitude_NE, longitude_NE = m.toLatLon(c)\n",
    "                        \n",
    "        if len(str(north_comp)) > len(str(northing)):\n",
    "            print('Need to check the ID of northern adjacent 100,000 m^2 cell')\n",
    "            \n",
    "            nlon,nlat = lon_lat_conversion(longitude_SW,latitude_SW,distlon=0,distlat=side_length)\n",
    "            \n",
    "            #This is the cell directly north of our cell\n",
    "            c = m.toMGRS(nlat,nlon,MGRSPrecision=precision)\n",
    "            latitude_NW, longitude_NW = m.toLatLon(c)\n",
    "            \n",
    "        \n",
    "    else:\n",
    "        \n",
    "        #Get the coordinates of the SW corner of the cell \n",
    "        cellID = basecomp\n",
    "        latitude_SW,longitude_SW = m.toLatLon(cellID.encode())\n",
    "       \n",
    "        elon,slat = lon_lat_conversion(longitude_SW,latitude_SW,distlon=side_length,distlat=0)\n",
    "        c = m.toMGRS(slat,elon,MGRSPrecision=precision)\n",
    "        latitude_SE, longitude_SE = m.toLatLon(c)\n",
    "        \n",
    "        elon,nlat = lon_lat_conversion(longitude_SW,latitude_SW,distlon=side_length,distlat=side_length)\n",
    "        c = m.toMGRS(nlat,elon,MGRSPrecision=precision)\n",
    "        latitude_NE, longitude_NE = m.toLatLon(c)\n",
    "        \n",
    "        wlon,nlat = lon_lat_conversion(longitude_SW,latitude_SW,distlon=0,distlat=side_length)\n",
    "        c = m.toMGRS(nlat,wlon,MGRSPrecision=precision)\n",
    "        latitude_NW, longitude_NW = m.toLatLon(c)\n",
    "    \n",
    "    \n",
    "    return {'southwest':(latitude_SW,longitude_SW),'southeast':(latitude_SE,longitude_SE),'northeast':(latitude_NE,longitude_NE),\\\n",
    "            'northwest':(latitude_NW,longitude_NW)}\n",
    "        "
   ]
  },
  {
   "cell_type": "code",
   "execution_count": 250,
   "metadata": {},
   "outputs": [
    {
     "data": {
      "text/plain": [
       "b'13SEU91'"
      ]
     },
     "execution_count": 250,
     "metadata": {},
     "output_type": "execute_result"
    }
   ],
   "source": [
    "c"
   ]
  },
  {
   "cell_type": "code",
   "execution_count": 251,
   "metadata": {},
   "outputs": [
    {
     "name": "stdout",
     "output_type": "stream",
     "text": [
      "%s\n"
     ]
    },
    {
     "ename": "TypeError",
     "evalue": "not all arguments converted during string formatting",
     "output_type": "error",
     "traceback": [
      "\u001b[0;31m---------------------------------------------------------------------------\u001b[0m",
      "\u001b[0;31mTypeError\u001b[0m                                 Traceback (most recent call last)",
      "\u001b[0;32m<ipython-input-251-83050b1b41da>\u001b[0m in \u001b[0;36m<module>\u001b[0;34m\u001b[0m\n\u001b[0;32m----> 1\u001b[0;31m \u001b[0mcorner_coords\u001b[0m \u001b[0;34m=\u001b[0m \u001b[0mfind_corners\u001b[0m\u001b[0;34m(\u001b[0m\u001b[0mc\u001b[0m\u001b[0;34m)\u001b[0m\u001b[0;34m\u001b[0m\u001b[0;34m\u001b[0m\u001b[0m\n\u001b[0m",
      "\u001b[0;32m<ipython-input-249-3e41ddea779e>\u001b[0m in \u001b[0;36mfind_corners\u001b[0;34m(cell)\u001b[0m\n\u001b[1;32m     53\u001b[0m         \u001b[0mpstring\u001b[0m \u001b[0;34m=\u001b[0m \u001b[0mprecision_string\u001b[0m\u001b[0;34m(\u001b[0m\u001b[0mprecision\u001b[0m\u001b[0;34m)\u001b[0m\u001b[0;34m\u001b[0m\u001b[0;34m\u001b[0m\u001b[0m\n\u001b[1;32m     54\u001b[0m         \u001b[0mprint\u001b[0m\u001b[0;34m(\u001b[0m\u001b[0mpstring\u001b[0m\u001b[0;34m)\u001b[0m\u001b[0;34m\u001b[0m\u001b[0;34m\u001b[0m\u001b[0m\n\u001b[0;32m---> 55\u001b[0;31m         \u001b[0mcellID\u001b[0m \u001b[0;34m=\u001b[0m \u001b[0mbasecomp\u001b[0m\u001b[0;34m+\u001b[0m\u001b[0mpstring\u001b[0m\u001b[0;34m+\u001b[0m\u001b[0mpstring\u001b[0m \u001b[0;34m%\u001b[0m\u001b[0;34m(\u001b[0m\u001b[0measting\u001b[0m\u001b[0;34m,\u001b[0m\u001b[0mnorthing\u001b[0m\u001b[0;34m)\u001b[0m\u001b[0;34m\u001b[0m\u001b[0;34m\u001b[0m\u001b[0m\n\u001b[0m\u001b[1;32m     56\u001b[0m         \u001b[0mprint\u001b[0m\u001b[0;34m(\u001b[0m\u001b[0mcellID\u001b[0m\u001b[0;34m)\u001b[0m\u001b[0;34m\u001b[0m\u001b[0;34m\u001b[0m\u001b[0m\n\u001b[1;32m     57\u001b[0m         \u001b[0mlatitude_SW\u001b[0m\u001b[0;34m,\u001b[0m\u001b[0mlongitude_SW\u001b[0m \u001b[0;34m=\u001b[0m \u001b[0mm\u001b[0m\u001b[0;34m.\u001b[0m\u001b[0mtoLatLon\u001b[0m\u001b[0;34m(\u001b[0m\u001b[0mcellID\u001b[0m\u001b[0;34m.\u001b[0m\u001b[0mencode\u001b[0m\u001b[0;34m(\u001b[0m\u001b[0;34m)\u001b[0m\u001b[0;34m)\u001b[0m\u001b[0;34m\u001b[0m\u001b[0;34m\u001b[0m\u001b[0m\n",
      "\u001b[0;31mTypeError\u001b[0m: not all arguments converted during string formatting"
     ]
    }
   ],
   "source": [
    "corner_coords = find_corners(c)"
   ]
  },
  {
   "cell_type": "code",
   "execution_count": 243,
   "metadata": {},
   "outputs": [
    {
     "data": {
      "text/plain": [
       "{'southwest': (34.42756368233047, -104.02050629105577),\n",
       " 'southeast': (34.42664369753953, -103.91169010432205),\n",
       " 'northeast': (34.51680961373913, -103.91051885530943),\n",
       " 'northwest': (34.51773268834001, -104.01945210276241)}"
      ]
     },
     "execution_count": 243,
     "metadata": {},
     "output_type": "execute_result"
    }
   ],
   "source": [
    "corner_coords"
   ]
  },
  {
   "cell_type": "code",
   "execution_count": 252,
   "metadata": {},
   "outputs": [],
   "source": [
    "def make_mgrs_polgon(cc):\n",
    "    \n",
    "    lat_point_list = [cc['southwest'][0], cc['southeast'][0], cc['northeast'][0] ,cc['northwest'][0],cc['southwest'][0]]\n",
    "    lon_point_list = [cc['southwest'][1], cc['southeast'][1], cc['northeast'][1] ,cc['northwest'][1],cc['southwest'][1]]\n",
    "    polygon_geom = Polygon(zip(lon_point_list, lat_point_list))\n",
    "    return polygon_geom\n",
    "\n",
    "\n",
    "    crs = {'init': 'epsg:4326'}\n",
    "    polygon = gpd.GeoDataFrame(index=[0], crs=crs, geometry=[polygon_geom])       \n",
    "    return polygon"
   ]
  },
  {
   "cell_type": "code",
   "execution_count": 253,
   "metadata": {},
   "outputs": [],
   "source": [
    "def make_grid_cells(precision=3,ncells=300):\n",
    "    \n",
    "    polys = [None]*ncells\n",
    "    for i in range(ncells):\n",
    "        \n",
    "        randlat = np.random.uniform(-50,50,1)[0]\n",
    "        randlon = np.random.uniform(-179,179,1)[0]\n",
    "        c = m.toMGRS(randlat,randlon,MGRSPrecision=precision)\n",
    "        print(c)\n",
    "        cc = find_corners(c)\n",
    "        \n",
    "        polygon = make_mgrs_polgon(cc)\n",
    "        polys.append(polygon)\n",
    "    \n",
    "    crs = {'init': 'epsg:4326'}\n",
    "    polygon_data = gpd.GeoDataFrame(index=np.arange(len(polys)), crs=crs, geometry=polys) \n",
    "    return polygon_data        "
   ]
  },
  {
   "cell_type": "code",
   "execution_count": 254,
   "metadata": {},
   "outputs": [
    {
     "name": "stdout",
     "output_type": "stream",
     "text": [
      "b'48RTR529408'\n",
      "%03i\n"
     ]
    },
    {
     "ename": "TypeError",
     "evalue": "not all arguments converted during string formatting",
     "output_type": "error",
     "traceback": [
      "\u001b[0;31m---------------------------------------------------------------------------\u001b[0m",
      "\u001b[0;31mTypeError\u001b[0m                                 Traceback (most recent call last)",
      "\u001b[0;32m<ipython-input-254-1ec527c6406f>\u001b[0m in \u001b[0;36m<module>\u001b[0;34m\u001b[0m\n\u001b[0;32m----> 1\u001b[0;31m \u001b[0mmake_grid_cells\u001b[0m\u001b[0;34m(\u001b[0m\u001b[0;34m)\u001b[0m\u001b[0;34m\u001b[0m\u001b[0;34m\u001b[0m\u001b[0m\n\u001b[0m",
      "\u001b[0;32m<ipython-input-253-d8f793994529>\u001b[0m in \u001b[0;36mmake_grid_cells\u001b[0;34m(precision, ncells)\u001b[0m\n\u001b[1;32m      8\u001b[0m         \u001b[0mc\u001b[0m \u001b[0;34m=\u001b[0m \u001b[0mm\u001b[0m\u001b[0;34m.\u001b[0m\u001b[0mtoMGRS\u001b[0m\u001b[0;34m(\u001b[0m\u001b[0mrandlat\u001b[0m\u001b[0;34m,\u001b[0m\u001b[0mrandlon\u001b[0m\u001b[0;34m,\u001b[0m\u001b[0mMGRSPrecision\u001b[0m\u001b[0;34m=\u001b[0m\u001b[0mprecision\u001b[0m\u001b[0;34m)\u001b[0m\u001b[0;34m\u001b[0m\u001b[0;34m\u001b[0m\u001b[0m\n\u001b[1;32m      9\u001b[0m         \u001b[0mprint\u001b[0m\u001b[0;34m(\u001b[0m\u001b[0mc\u001b[0m\u001b[0;34m)\u001b[0m\u001b[0;34m\u001b[0m\u001b[0;34m\u001b[0m\u001b[0m\n\u001b[0;32m---> 10\u001b[0;31m         \u001b[0mcc\u001b[0m \u001b[0;34m=\u001b[0m \u001b[0mfind_corners\u001b[0m\u001b[0;34m(\u001b[0m\u001b[0mc\u001b[0m\u001b[0;34m)\u001b[0m\u001b[0;34m\u001b[0m\u001b[0;34m\u001b[0m\u001b[0m\n\u001b[0m\u001b[1;32m     11\u001b[0m \u001b[0;34m\u001b[0m\u001b[0m\n\u001b[1;32m     12\u001b[0m         \u001b[0mpolygon\u001b[0m \u001b[0;34m=\u001b[0m \u001b[0mmake_mgrs_polgon\u001b[0m\u001b[0;34m(\u001b[0m\u001b[0mcc\u001b[0m\u001b[0;34m)\u001b[0m\u001b[0;34m\u001b[0m\u001b[0;34m\u001b[0m\u001b[0m\n",
      "\u001b[0;32m<ipython-input-249-3e41ddea779e>\u001b[0m in \u001b[0;36mfind_corners\u001b[0;34m(cell)\u001b[0m\n\u001b[1;32m     53\u001b[0m         \u001b[0mpstring\u001b[0m \u001b[0;34m=\u001b[0m \u001b[0mprecision_string\u001b[0m\u001b[0;34m(\u001b[0m\u001b[0mprecision\u001b[0m\u001b[0;34m)\u001b[0m\u001b[0;34m\u001b[0m\u001b[0;34m\u001b[0m\u001b[0m\n\u001b[1;32m     54\u001b[0m         \u001b[0mprint\u001b[0m\u001b[0;34m(\u001b[0m\u001b[0mpstring\u001b[0m\u001b[0;34m)\u001b[0m\u001b[0;34m\u001b[0m\u001b[0;34m\u001b[0m\u001b[0m\n\u001b[0;32m---> 55\u001b[0;31m         \u001b[0mcellID\u001b[0m \u001b[0;34m=\u001b[0m \u001b[0mbasecomp\u001b[0m\u001b[0;34m+\u001b[0m\u001b[0mpstring\u001b[0m\u001b[0;34m+\u001b[0m\u001b[0mpstring\u001b[0m \u001b[0;34m%\u001b[0m\u001b[0;34m(\u001b[0m\u001b[0measting\u001b[0m\u001b[0;34m,\u001b[0m\u001b[0mnorthing\u001b[0m\u001b[0;34m)\u001b[0m\u001b[0;34m\u001b[0m\u001b[0;34m\u001b[0m\u001b[0m\n\u001b[0m\u001b[1;32m     56\u001b[0m         \u001b[0mprint\u001b[0m\u001b[0;34m(\u001b[0m\u001b[0mcellID\u001b[0m\u001b[0;34m)\u001b[0m\u001b[0;34m\u001b[0m\u001b[0;34m\u001b[0m\u001b[0m\n\u001b[1;32m     57\u001b[0m         \u001b[0mlatitude_SW\u001b[0m\u001b[0;34m,\u001b[0m\u001b[0mlongitude_SW\u001b[0m \u001b[0;34m=\u001b[0m \u001b[0mm\u001b[0m\u001b[0;34m.\u001b[0m\u001b[0mtoLatLon\u001b[0m\u001b[0;34m(\u001b[0m\u001b[0mcellID\u001b[0m\u001b[0;34m.\u001b[0m\u001b[0mencode\u001b[0m\u001b[0;34m(\u001b[0m\u001b[0;34m)\u001b[0m\u001b[0;34m)\u001b[0m\u001b[0;34m\u001b[0m\u001b[0;34m\u001b[0m\u001b[0m\n",
      "\u001b[0;31mTypeError\u001b[0m: not all arguments converted during string formatting"
     ]
    }
   ],
   "source": [
    "make_grid_cells()"
   ]
  },
  {
   "cell_type": "code",
   "execution_count": 227,
   "metadata": {},
   "outputs": [],
   "source": [
    "mypoly = make_mgrs_polgon(corner_coords)"
   ]
  },
  {
   "cell_type": "code",
   "execution_count": 228,
   "metadata": {},
   "outputs": [
    {
     "data": {
      "text/html": [
       "<div>\n",
       "<style scoped>\n",
       "    .dataframe tbody tr th:only-of-type {\n",
       "        vertical-align: middle;\n",
       "    }\n",
       "\n",
       "    .dataframe tbody tr th {\n",
       "        vertical-align: top;\n",
       "    }\n",
       "\n",
       "    .dataframe thead th {\n",
       "        text-align: right;\n",
       "    }\n",
       "</style>\n",
       "<table border=\"1\" class=\"dataframe\">\n",
       "  <thead>\n",
       "    <tr style=\"text-align: right;\">\n",
       "      <th></th>\n",
       "      <th>geometry</th>\n",
       "    </tr>\n",
       "  </thead>\n",
       "  <tbody>\n",
       "    <tr>\n",
       "      <th>0</th>\n",
       "      <td>POLYGON ((-104.0205062910558 34.42756368233047...</td>\n",
       "    </tr>\n",
       "  </tbody>\n",
       "</table>\n",
       "</div>"
      ],
      "text/plain": [
       "                                            geometry\n",
       "0  POLYGON ((-104.0205062910558 34.42756368233047..."
      ]
     },
     "execution_count": 228,
     "metadata": {},
     "output_type": "execute_result"
    }
   ],
   "source": [
    "mypoly"
   ]
  },
  {
   "cell_type": "code",
   "execution_count": 229,
   "metadata": {},
   "outputs": [
    {
     "data": {
      "text/plain": [
       "-103.96554194982622"
      ]
     },
     "execution_count": 229,
     "metadata": {},
     "output_type": "execute_result"
    }
   ],
   "source": [
    "mypoly['geometry'].iloc[0].centroid.x"
   ]
  },
  {
   "cell_type": "code",
   "execution_count": 230,
   "metadata": {},
   "outputs": [
    {
     "data": {
      "text/html": [
       "<div style=\"width:100%;\"><div style=\"position:relative;width:100%;height:0;padding-bottom:60%;\"><iframe src=\"data:text/html;charset=utf-8;base64,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\" style=\"position:absolute;width:100%;height:100%;left:0;top:0;border:none !important;\" allowfullscreen webkitallowfullscreen mozallowfullscreen></iframe></div></div>"
      ],
      "text/plain": [
       "<folium.folium.Map at 0x12854c4e0>"
      ]
     },
     "execution_count": 230,
     "metadata": {},
     "output_type": "execute_result"
    }
   ],
   "source": [
    "mapobj = folium.Map([mypoly['geometry'].iloc[0].centroid.y, mypoly['geometry'].iloc[0].centroid.x], zoom_start=6, tiles='cartodbpositron')\n",
    "folium.GeoJson(mypoly).add_to(mapobj)\n",
    "folium.LatLngPopup().add_to(mapobj)\n",
    "mapobj"
   ]
  },
  {
   "cell_type": "code",
   "execution_count": null,
   "metadata": {},
   "outputs": [],
   "source": []
  }
 ],
 "metadata": {
  "kernelspec": {
   "display_name": "Python 3",
   "language": "python",
   "name": "python3"
  },
  "language_info": {
   "codemirror_mode": {
    "name": "ipython",
    "version": 3
   },
   "file_extension": ".py",
   "mimetype": "text/x-python",
   "name": "python",
   "nbconvert_exporter": "python",
   "pygments_lexer": "ipython3",
   "version": "3.6.7"
  }
 },
 "nbformat": 4,
 "nbformat_minor": 2
}
