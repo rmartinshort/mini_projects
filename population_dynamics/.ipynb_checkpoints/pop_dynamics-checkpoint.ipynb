{
 "cells": [
  {
   "cell_type": "markdown",
   "metadata": {},
   "source": [
    "### Population dynamics experiment \n",
    "\n",
    "This is based on example 1 in the Linear Dynamical Systems chapter of Introduction to Applied Linear Algebra by Boyd & Vandenberghe. The 2010 US population data is taken from their graph. All other data is made up for the sake of the experiment.    \n",
    "\n",
    "The aim is to use a simple system of linear equations to forward model changes in a population taking into account birth, death and migration. Such a model could become quite complex because these three factors change over time too. For now we wil assume that they are constant.  \n",
    "\n",
    "We model the change in distribution of people aged 0-100 in the US starting in 2010.  "
   ]
  },
  {
   "cell_type": "code",
   "execution_count": 3,
   "metadata": {},
   "outputs": [],
   "source": [
    "import matplotlib.pyplot as plt\n",
    "import numpy as np\n",
    "import pandas as pd"
   ]
  },
  {
   "cell_type": "markdown",
   "metadata": {},
   "source": [
    "#### Generate example birth rate distribution with age\n",
    "\n",
    "This will be a gaussian-like distribution peaked at about 30, probably with cut-offs at about 15 and 45"
   ]
  },
  {
   "cell_type": "code",
   "execution_count": 101,
   "metadata": {},
   "outputs": [],
   "source": [
    "def birth_rate(x, mu, sig):\n",
    "    br = 1./(np.sqrt(2.*np.pi)*sig)*np.exp(-np.power((x - mu)/sig, 2.)/2)\n",
    "    br[:13] = 0\n",
    "    br[50:] = 0 \n",
    "    br = br*100\n",
    "    return br"
   ]
  },
  {
   "cell_type": "code",
   "execution_count": 104,
   "metadata": {},
   "outputs": [],
   "source": [
    "x = np.arange(0,101,1)\n",
    "mu = 30\n",
    "sigma = 7\n",
    "br = birth_rate(x,mu,sigma)"
   ]
  },
  {
   "cell_type": "code",
   "execution_count": 105,
   "metadata": {},
   "outputs": [
    {
     "data": {
      "text/plain": [
       "Text(0,0.5,'Birth rate [%]')"
      ]
     },
     "execution_count": 105,
     "metadata": {},
     "output_type": "execute_result"
    },
    {
     "data": {
      "image/png": "[encoded data removed]",
      "text/plain": [
       "<Figure size 432x288 with 1 Axes>"
      ]
     },
     "metadata": {},
     "output_type": "display_data"
    }
   ],
   "source": [
    "plt.bar(x,br,width=1)\n",
    "plt.xlabel('Age')\n",
    "plt.ylabel('Birth rate [%]')"
   ]
  },
  {
   "cell_type": "markdown",
   "metadata": {},
   "source": [
    "#### Generate example death rate as a function of age\n",
    "\n",
    "This will be exponential with a small peak at the start"
   ]
  },
  {
   "cell_type": "code",
   "execution_count": 106,
   "metadata": {},
   "outputs": [],
   "source": [
    "def death_rate(x):\n",
    "    y = np.exp(x/15)/100\n",
    "    y[:2] = 0.5\n",
    "    return y"
   ]
  },
  {
   "cell_type": "code",
   "execution_count": 107,
   "metadata": {},
   "outputs": [],
   "source": [
    "dr = death_rate(x)"
   ]
  },
  {
   "cell_type": "code",
   "execution_count": 108,
   "metadata": {},
   "outputs": [
    {
     "data": {
      "text/plain": [
       "Text(0,0.5,'Death rate [%]')"
      ]
     },
     "execution_count": 108,
     "metadata": {},
     "output_type": "execute_result"
    },
    {
     "data": {
      "image/png": "[encoded data removed]",
      "text/plain": [
       "<Figure size 432x288 with 1 Axes>"
      ]
     },
     "metadata": {},
     "output_type": "display_data"
    }
   ],
   "source": [
    "plt.bar(x,dr,width=1)\n",
    "plt.xlabel('Age')\n",
    "plt.ylabel('Death rate [%]')"
   ]
  },
  {
   "cell_type": "markdown",
   "metadata": {},
   "source": [
    "#### Load population in the US by age for 2010"
   ]
  },
  {
   "cell_type": "code",
   "execution_count": 109,
   "metadata": {},
   "outputs": [
    {
     "name": "stderr",
     "output_type": "stream",
     "text": [
      "/Users/rmartinshort/anaconda/envs/py36/lib/python3.6/site-packages/ipykernel_launcher.py:1: ParserWarning: Falling back to the 'python' engine because the 'c' engine does not support regex separators (separators > 1 char and different from '\\s+' are interpreted as regex); you can avoid this warning by specifying engine='python'.\n",
      "  \"\"\"Entry point for launching an IPython kernel.\n"
     ]
    }
   ],
   "source": [
    "dist_2010 = pd.read_csv('2010_US_pop_dist.dat',sep='  ',names=['age','pop'])"
   ]
  },
  {
   "cell_type": "code",
   "execution_count": 110,
   "metadata": {},
   "outputs": [],
   "source": [
    "dist_2010['age'] = dist_2010['age'].apply(lambda x: int(round(x)))"
   ]
  },
  {
   "cell_type": "code",
   "execution_count": 121,
   "metadata": {},
   "outputs": [
    {
     "data": {
      "text/plain": [
       "Text(0,0.5,'2010 population [millions]')"
      ]
     },
     "execution_count": 121,
     "metadata": {},
     "output_type": "execute_result"
    },
    {
     "data": {
      "image/png": "[encoded data removed]",
      "text/plain": [
       "<Figure size 432x288 with 1 Axes>"
      ]
     },
     "metadata": {},
     "output_type": "display_data"
    }
   ],
   "source": [
    "plt.bar(dist_2010['age'],dist_2010['pop'],width=1,fill=None,alpha=0.4)\n",
    "plt.xlabel(\"Age group\")\n",
    "plt.ylabel('2010 population [millions]')"
   ]
  },
  {
   "cell_type": "markdown",
   "metadata": {},
   "source": [
    "The population vector $x_{t+1}$ is related to the population vector $x_t$ by a set of linear equations   \n",
    "\n",
    "$ x_{t+1} = Ax_t $\n",
    "\n",
    "Where A is a matrix that contains the birth rate vector in the first row and the vector $1-d_i$ on first lower diagonal\n"
   ]
  },
  {
   "cell_type": "code",
   "execution_count": 130,
   "metadata": {},
   "outputs": [],
   "source": [
    "A = np.zeros([101,101])\n",
    "A[0,:] = br/100.0"
   ]
  },
  {
   "cell_type": "code",
   "execution_count": 131,
   "metadata": {},
   "outputs": [
    {
     "name": "stdout",
     "output_type": "stream",
     "text": [
      "(100, 100)\n"
     ]
    }
   ],
   "source": [
    "B = A[1:,:-1]\n",
    "print(np.shape(B))\n",
    "indices_diag = np.diag_indices(np.shape(B)[0])\n",
    "B[indices_diag] = 1 - dr[:-1]/100.0\n",
    "A[1:,:-1] = B"
   ]
  },
  {
   "cell_type": "markdown",
   "metadata": {},
   "source": [
    "Now, lets projects nyears into the future"
   ]
  },
  {
   "cell_type": "code",
   "execution_count": 156,
   "metadata": {},
   "outputs": [
    {
     "data": {
      "text/plain": [
       "<matplotlib.legend.Legend at 0x123f6a400>"
      ]
     },
     "execution_count": 156,
     "metadata": {},
     "output_type": "execute_result"
    },
    {
     "data": {
      "image/png": "[encoded data removed]",
      "text/plain": [
       "<Figure size 720x360 with 1 Axes>"
      ]
     },
     "metadata": {},
     "output_type": "display_data"
    }
   ],
   "source": [
    "nyears = 10\n",
    "\n",
    "plt.figure(figsize=(10,5))\n",
    "\n",
    "x_orig = dist_2010['pop'].values\n",
    "x = x_orig.copy()\n",
    "for i in range(1,nyears+1):\n",
    "    x_new = A@x\n",
    "    x = x_new\n",
    "\n",
    "    \n",
    "plt.bar(np.arange(101),x_orig,fill=None,width=1,alpha=0.5,label=\"2010_pop\")\n",
    "plt.bar(np.arange(101),x_new,edgecolor='r',width=1,fill=None,alpha=0.5,label=\"Population after %i years\" %nyears)\n",
    "plt.xlabel(\"Age\")\n",
    "plt.ylabel(\"Poulation [millions]\")\n",
    "plt.title(\"Population change excuding migration\")\n",
    "plt.legend(loc='best')"
   ]
  },
  {
   "cell_type": "markdown",
   "metadata": {},
   "source": [
    "This is interesting - the simple birth and death rate curves act to smooth the population distriubution. We might try to make the model more accurate by incorporating new migration though. To do this, we just need to design a new vector $u_t$ that contains the number of net migrants in each age group. We might reasonably assume that this is a Gaussian centered on the age of about 30. Net migration to the US was 5 million between 2007 and 2012 (https://en.wikipedia.org/wiki/List_of_countries_by_net_migration_rate), so lets say that net migration is about 1 million/year"
   ]
  },
  {
   "cell_type": "code",
   "execution_count": 140,
   "metadata": {},
   "outputs": [],
   "source": [
    "def migration(x,mu,sigma):\n",
    "    mig = 1./(np.sqrt(2.*np.pi)*sigma)*np.exp(-np.power((x - mu)/sigma, 2.)/2)\n",
    "    mig = mig*1e6\n",
    "    return mig\n",
    "    "
   ]
  },
  {
   "cell_type": "code",
   "execution_count": 147,
   "metadata": {},
   "outputs": [],
   "source": [
    "x = np.arange(0,101,1)\n",
    "mu = 30\n",
    "sigma = 12\n",
    "mig = migration(x,mu,sigma)"
   ]
  },
  {
   "cell_type": "code",
   "execution_count": 148,
   "metadata": {},
   "outputs": [
    {
     "data": {
      "text/plain": [
       "994495.3287475809"
      ]
     },
     "execution_count": 148,
     "metadata": {},
     "output_type": "execute_result"
    }
   ],
   "source": [
    "np.sum(mig)"
   ]
  },
  {
   "cell_type": "code",
   "execution_count": 151,
   "metadata": {},
   "outputs": [
    {
     "data": {
      "text/plain": [
       "Text(0,0.5,'Net annual migration')"
      ]
     },
     "execution_count": 151,
     "metadata": {},
     "output_type": "execute_result"
    },
    {
     "data": {
      "image/png": "[encoded data removed]",
      "text/plain": [
       "<Figure size 432x288 with 1 Axes>"
      ]
     },
     "metadata": {},
     "output_type": "display_data"
    }
   ],
   "source": [
    "plt.bar(x,mig,width=1)\n",
    "plt.xlabel('Age')\n",
    "plt.ylabel('Net annual migration')"
   ]
  },
  {
   "cell_type": "markdown",
   "metadata": {},
   "source": [
    "We can incorporate this into our predictions of the future population"
   ]
  },
  {
   "cell_type": "code",
   "execution_count": 155,
   "metadata": {},
   "outputs": [
    {
     "data": {
      "text/plain": [
       "<matplotlib.legend.Legend at 0x1234a5ba8>"
      ]
     },
     "execution_count": 155,
     "metadata": {},
     "output_type": "execute_result"
    },
    {
     "data": {
      "image/png": "[encoded data removed]",
      "text/plain": [
       "<Figure size 720x360 with 1 Axes>"
      ]
     },
     "metadata": {},
     "output_type": "display_data"
    }
   ],
   "source": [
    "nyears = 10\n",
    "\n",
    "plt.figure(figsize=(10,5))\n",
    "\n",
    "x_orig = dist_2010['pop'].values\n",
    "x = x_orig.copy()\n",
    "for i in range(1,nyears+1):\n",
    "    x_new = A@x + mig/1e6\n",
    "    x = x_new\n",
    "\n",
    "    \n",
    "plt.bar(np.arange(101),x_orig,fill=None,width=1,alpha=0.5,label=\"2010_pop\")\n",
    "plt.bar(np.arange(101),x_new,edgecolor='r',width=1,fill=None,alpha=0.5,label=\"Population after %i years\" %nyears)\n",
    "plt.xlabel(\"Age\")\n",
    "plt.ylabel(\"Poulation [millions]\")\n",
    "plt.title(\"Population change including migration\")\n",
    "plt.legend(loc='best')"
   ]
  },
  {
   "cell_type": "markdown",
   "metadata": {},
   "source": [
    "### System shocks\n",
    "\n",
    "What happens if the birth and death rates change over some period. We could, for example, model the effects of a war that kills some larger proportion of the young population over the course of a small number if years and ask how long the population takes to recover."
   ]
  },
  {
   "cell_type": "code",
   "execution_count": null,
   "metadata": {},
   "outputs": [],
   "source": []
  }
 ],
 "metadata": {
  "kernelspec": {
   "display_name": "Python 3",
   "language": "python",
   "name": "python3"
  },
  "language_info": {
   "codemirror_mode": {
    "name": "ipython",
    "version": 3
   },
   "file_extension": ".py",
   "mimetype": "text/x-python",
   "name": "python",
   "nbconvert_exporter": "python",
   "pygments_lexer": "ipython3",
   "version": "3.6.4"
  }
 },
 "nbformat": 4,
 "nbformat_minor": 2
}
