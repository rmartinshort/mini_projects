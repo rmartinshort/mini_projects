{
 "cells": [
  {
   "cell_type": "code",
   "execution_count": 1,
   "metadata": {},
   "outputs": [],
   "source": [
    "import os\n",
    "import speech_recognition as sr\n",
    "import timit"
   ]
  },
  {
   "cell_type": "code",
   "execution_count": 2,
   "metadata": {},
   "outputs": [],
   "source": [
    "r = sr.Recognizer()\n",
    "audio = sr.AudioFile(\"data/test.wav\")"
   ]
  },
  {
   "cell_type": "code",
   "execution_count": 3,
   "metadata": {},
   "outputs": [],
   "source": [
    "AUDIO_FILE = \"data/test.wav\"\n",
    "with sr.AudioFile(AUDIO_FILE) as source:\n",
    "    audio = r.record(source,duration=300)"
   ]
  },
  {
   "cell_type": "code",
   "execution_count": 5,
   "metadata": {},
   "outputs": [
    {
     "name": "stdout",
     "output_type": "stream",
     "text": [
      "Sphinx thinks you said ----> so has a veto run of violence continues to spread governments are round the world when commencing tomko restrictions to contain this thing can lead to some of the ways that different countries are teeming with this particular outbreak fess up next tense here in japan the kisses schools will be cleansed from the start of next week back now as a clerk at the scene of fromm hey we're all they say is at a country which is now being chinese citizens from entering this guy that's you saudi arabia where the government is also taking measures in suspending the system no i didn't want to visit had incisive places like mecca and medina and now to say to what is happening aimed at venice and half my hit the streets on that and that the nearby towns in noticing all still a lot sound set some countries are waiting stepping on their efforts to contain the virus is the director general of the wild helpful when i say shun the epidemic sudanese army could bobby goofy on futility funded republic of korea dimona street what these miners use corrupted wolf what these line is he's an old to the influenza if we divide measures that can be quentin box the waga is consensus among all the cases of the virus is something no he detected in the house budget committee case and there were all parties that saying that they have gained twenty six deaths out of two hundred and forty five cases that means that suffix has seen brains and rounds had the sense that a significant he wasn't at that place elsewhere which varies from between around want to three percent as the governor chiles on the specific arrests this disease came on the scene along to try to truant chalupa extension of fiction movie broder them we may be seen as is the case in many of the damage from the start is you only see the severe and lose but from an edgy do more civility five more mild cases now even said that small cases on being paid to solve this is one woman wants them had cases where he went missing because she is maslin a petty cash she's won a bronze vice presidents and just to stress that high case isn't all that has to show that the virus doesn't discriminate one of your position as the phone is positive test the country's deputy health minister candles and then the parliament in him on his fifty from excess maneuvering in public has happened the first thing to recognize is that the government of the official statements probably do not reflect the extent of the outbreak inside of you i think iran is likely based on the deatherage at our way the second biggest of the center in the entire world when it comes to the current virus lasted into fractures won a very slow recovery sponsor failing to test for the current arsonist away an unfair or to take a quarantine another precautionary measures and then second are his public health sector has been devastated by u. s. sanctions for months and years and so they haven't been able to get becky medical devices are there and i kinda medicine cabinets only many factions last services have created the perfect storm where are you know the official redemption infections and hundreds of grissom whatever it is like one of thousands in using many government officials are come out and i just love the forest preserve the challenge and also members of parliament and the deputy health minister stress related response to this purpose is somehow white house says that it was the ukrainian authorities attending members of the top that i don't think there's a lot of trust in new jersey but as doctors are come out and said that artificial governs the moonstone really reflect the external for crisis that this is much more widespread than one on an herb back on frederick eighteen percent and nobody had been infected the country murder men have to reverse themselves proud of the very next day because a couple people have died as a result of the current virus so there i think that the public trust the reporters are man dating back to i know the fact that they shot down and that is of a civilian aircraft said just whoa for martyrdom and then lied about it for three days of public trust is a very very low when it comes to you and governments pronouncements on this situation n. a. alongside all governments the spaulding proportionately to the threat of the corona virus while japan has recorded more than two hundred cases in as a fat figure out well as you can say is with us more than six hundred fifty one outside the way it's all saint vincent's cough new measures that this in fact is the number of reported cases that say i sang the saudis of a explaining courses on countries also implementing what's called it measures for example hey and hey they have been just fifteen reported cases of all the most recent cases have been traced back to it's me and said talking schools for the rest have cleansed as a ruse\n"
     ]
    }
   ],
   "source": [
    "# recognize speech using Sphinx\n",
    "try:\n",
    "    print(\"Sphinx thinks you said ----> \" + r.recognize_sphinx(audio))\n",
    "except sr.UnknownValueError:\n",
    "    print(\"Sphinx could not understand audio\")\n",
    "except sr.RequestError as e:\n",
    "    print(\"Sphinx error; {0}\".format(e))"
   ]
  },
  {
   "cell_type": "code",
   "execution_count": 6,
   "metadata": {},
   "outputs": [
    {
     "name": "stdout",
     "output_type": "stream",
     "text": [
      "Google Speech Recognition thinks you said ----> so honestly coronavirus continues to spread governments around the world were implementing tougher restrictions to contain it does take a little look at some of the ways the different countries are dealing with this particular out right. Let's turn to Japan because of schools will be closed from the start of next week that now that's a clerk at a scene from a wrong this is a country which is buying Chinese citizens from entering let's go\n"
     ]
    }
   ],
   "source": [
    "# recognize speech using Google Speech Recognition\n",
    "try:\n",
    "    # for testing purposes, we're just using the default API key\n",
    "    # to use another API key, use `r.recognize_google(audio, key=\"GOOGLE_SPEECH_RECOGNITION_API_KEY\")`\n",
    "    # instead of `r.recognize_google(audio)`\n",
    "    print(\"Google Speech Recognition thinks you said ----> \" + r.recognize_google(audio))\n",
    "except sr.UnknownValueError:\n",
    "    print(\"Google Speech Recognition could not understand audio\")\n",
    "except sr.RequestError as e:\n",
    "    print(\"Could not request results from Google Speech Recognition service; {0}\".format(e))"
   ]
  },
  {
   "cell_type": "code",
   "execution_count": null,
   "metadata": {},
   "outputs": [],
   "source": []
  }
 ],
 "metadata": {
  "kernelspec": {
   "display_name": "Python 3",
   "language": "python",
   "name": "python3"
  },
  "language_info": {
   "codemirror_mode": {
    "name": "ipython",
    "version": 3
   },
   "file_extension": ".py",
   "mimetype": "text/x-python",
   "name": "python",
   "nbconvert_exporter": "python",
   "pygments_lexer": "ipython3",
   "version": "3.6.7"
  }
 },
 "nbformat": 4,
 "nbformat_minor": 4
}
