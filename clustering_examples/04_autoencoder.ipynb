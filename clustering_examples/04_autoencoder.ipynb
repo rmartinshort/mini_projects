{
 "cells": [
  {
   "cell_type": "code",
   "execution_count": null,
   "metadata": {
    "ExecuteTime": {
     "end_time": "2018-04-05T10:38:11.113253Z",
     "start_time": "2018-04-05T10:38:05.324609Z"
    },
    "slideshow": {
     "slide_type": "skip"
    }
   },
   "outputs": [],
   "source": [
    "from os.path import join\n",
    "import pandas as pd\n",
    "\n",
    "import numpy as np\n",
    "from numpy.random import choice\n",
    "from numpy.linalg import norm\n",
    "import seaborn as sns\n",
    "\n",
    "import matplotlib.pyplot as plt\n",
    "from matplotlib.colors import ListedColormap\n",
    "from matplotlib.offsetbox import AnnotationBbox, OffsetImage\n",
    "from mpl_toolkits.axes_grid1 import make_axes_locatable\n",
    "\n",
    "from keras.layers import Input, Dense, Conv2D, MaxPooling2D, UpSampling2D\n",
    "from keras.models import Model, model_from_json\n",
    "from keras.callbacks import TensorBoard, EarlyStopping\n",
    "\n",
    "from sklearn.preprocessing import minmax_scale\n",
    "from sklearn.manifold import TSNE\n",
    "from sklearn.datasets import fetch_mldata\n",
    "from sklearn.model_selection import train_test_split\n",
    "\n",
    "from scipy.spatial.distance import pdist, cdist"
   ]
  },
  {
   "cell_type": "code",
   "execution_count": null,
   "metadata": {
    "ExecuteTime": {
     "end_time": "2018-04-05T10:38:11.139587Z",
     "start_time": "2018-04-05T10:38:11.117034Z"
    }
   },
   "outputs": [],
   "source": [
    "%matplotlib inline\n",
    "plt.style.use('ggplot')\n",
    "n_classes = 10 # all examples have 10 classes\n",
    "cmap = sns.color_palette('Paired', n_classes)\n",
    "pd.options.display.float_format = '{:,.2f}'.format"
   ]
  },
  {
   "cell_type": "code",
   "execution_count": null,
   "metadata": {
    "ExecuteTime": {
     "end_time": "2018-04-05T10:38:11.164872Z",
     "start_time": "2018-04-05T10:38:11.144637Z"
    },
    "slideshow": {
     "slide_type": "skip"
    }
   },
   "outputs": [],
   "source": [
    "from jupyterthemes import jtplot\n",
    "jtplot.style(theme='onedork', context='talk', fscale=1.4, spines=False, \n",
    "             gridlines='--', ticks=True, grid=False, figsize=(14, 8))"
   ]
  },
  {
   "cell_type": "markdown",
   "metadata": {
    "slideshow": {
     "slide_type": "slide"
    }
   },
   "source": [
    "## Handwritten Digit Data"
   ]
  },
  {
   "cell_type": "code",
   "execution_count": null,
   "metadata": {
    "ExecuteTime": {
     "end_time": "2018-04-05T10:38:11.306695Z",
     "start_time": "2018-04-05T10:38:11.169555Z"
    },
    "slideshow": {
     "slide_type": "fragment"
    }
   },
   "outputs": [],
   "source": [
    "mnist = fetch_mldata('MNIST original', data_home='.')\n",
    "mnist.data.shape"
   ]
  },
  {
   "cell_type": "code",
   "execution_count": null,
   "metadata": {
    "ExecuteTime": {
     "end_time": "2018-04-05T10:38:11.336838Z",
     "start_time": "2018-04-05T10:38:11.315229Z"
    },
    "slideshow": {
     "slide_type": "fragment"
    }
   },
   "outputs": [],
   "source": [
    "classes = sorted(np.unique(mnist.target).astype(int))\n",
    "classes"
   ]
  },
  {
   "cell_type": "code",
   "execution_count": null,
   "metadata": {
    "ExecuteTime": {
     "end_time": "2018-04-05T10:38:11.532837Z",
     "start_time": "2018-04-05T10:38:11.341460Z"
    },
    "slideshow": {
     "slide_type": "skip"
    }
   },
   "outputs": [],
   "source": [
    "sns.palplot(cmap)"
   ]
  },
  {
   "cell_type": "markdown",
   "metadata": {
    "slideshow": {
     "slide_type": "slide"
    }
   },
   "source": [
    "### Plot sample images"
   ]
  },
  {
   "cell_type": "code",
   "execution_count": null,
   "metadata": {
    "ExecuteTime": {
     "end_time": "2018-04-05T10:38:11.547027Z",
     "start_time": "2018-04-05T10:38:11.538907Z"
    },
    "slideshow": {
     "slide_type": "skip"
    }
   },
   "outputs": [],
   "source": [
    "image_size = int(np.sqrt(mnist.data.shape[1])) # 28 x 28 pixels\n",
    "n_samples = 15"
   ]
  },
  {
   "cell_type": "code",
   "execution_count": null,
   "metadata": {
    "ExecuteTime": {
     "end_time": "2018-04-05T10:38:12.162164Z",
     "start_time": "2018-04-05T10:38:11.552576Z"
    },
    "hide_input": false,
    "slideshow": {
     "slide_type": "fragment"
    }
   },
   "outputs": [],
   "source": [
    "fig, ax = plt.subplots()\n",
    "mnist_sample = np.empty(\n",
    "    shape=(image_size * len(classes), image_size * n_samples))\n",
    "for row, label in enumerate(classes):\n",
    "    label_data = np.squeeze(np.argwhere(mnist.target == label))\n",
    "    samples = choice(label_data, size=n_samples, replace=False)\n",
    "    i = row * image_size\n",
    "    for col, sample in enumerate(samples):\n",
    "        j = col * image_size\n",
    "        mnist_sample[i:i+image_size, j:j +\n",
    "                     image_size] = mnist.data[sample].reshape(image_size, -1)\n",
    "\n",
    "ax.imshow(mnist_sample, cmap='Blues')\n",
    "plt.title('Handwritten Digits')\n",
    "plt.axis('off')\n",
    "plt.tight_layout()"
   ]
  },
  {
   "cell_type": "markdown",
   "metadata": {
    "slideshow": {
     "slide_type": "slide"
    }
   },
   "source": [
    "## Autoencoder"
   ]
  },
  {
   "cell_type": "markdown",
   "metadata": {
    "slideshow": {
     "slide_type": "skip"
    }
   },
   "source": [
    "### Baseline Autoencoder"
   ]
  },
  {
   "cell_type": "markdown",
   "metadata": {
    "slideshow": {
     "slide_type": "fragment"
    }
   },
   "source": [
    "Encoding 28 x 28 images to a 32 value representation"
   ]
  },
  {
   "cell_type": "code",
   "execution_count": null,
   "metadata": {
    "ExecuteTime": {
     "end_time": "2018-04-05T10:38:12.181334Z",
     "start_time": "2018-04-05T10:38:12.174005Z"
    },
    "slideshow": {
     "slide_type": "-"
    }
   },
   "outputs": [],
   "source": [
    "img_size = 28     # size of image (pixels per side)\n",
    "input_size = 28 ** 2 # Compression factor: 784 / 32 = 28\n",
    "encoding_dim = 32 # Size of encoding"
   ]
  },
  {
   "cell_type": "markdown",
   "metadata": {
    "slideshow": {
     "slide_type": "slide"
    }
   },
   "source": [
    "Designing the three-layer Model"
   ]
  },
  {
   "cell_type": "code",
   "execution_count": null,
   "metadata": {
    "ExecuteTime": {
     "end_time": "2018-04-05T10:38:12.293237Z",
     "start_time": "2018-04-05T10:38:12.186688Z"
    },
    "slideshow": {
     "slide_type": "fragment"
    }
   },
   "outputs": [],
   "source": [
    "# Input Layer\n",
    "input_img = Input(shape=(input_size,), name='Input')\n",
    "\n",
    "# Dense Encoding Layer\n",
    "encoded = Dense(units=encoding_dim,\n",
    "                activation='relu',\n",
    "                name='Encoding')(input_img)\n",
    "\n",
    "# Dense Reconstruction Layer\n",
    "decoded = Dense(units=input_size,\n",
    "                activation='sigmoid',\n",
    "                name='Reconstruction')(encoded)\n",
    "\n",
    "# Autoencoder Model\n",
    "autoencoder = Model(inputs=input_img,\n",
    "                    outputs=decoded,\n",
    "                    name='Autoencoder') "
   ]
  },
  {
   "cell_type": "code",
   "execution_count": null,
   "metadata": {
    "ExecuteTime": {
     "end_time": "2018-04-05T10:38:12.312297Z",
     "start_time": "2018-04-05T10:38:12.297581Z"
    },
    "slideshow": {
     "slide_type": "slide"
    }
   },
   "outputs": [],
   "source": [
    "autoencoder.summary()"
   ]
  },
  {
   "cell_type": "markdown",
   "metadata": {
    "slideshow": {
     "slide_type": "subslide"
    }
   },
   "source": [
    "#### Encoder Model"
   ]
  },
  {
   "cell_type": "code",
   "execution_count": null,
   "metadata": {
    "ExecuteTime": {
     "end_time": "2018-04-05T10:38:12.326819Z",
     "start_time": "2018-04-05T10:38:12.318908Z"
    },
    "slideshow": {
     "slide_type": "fragment"
    }
   },
   "outputs": [],
   "source": [
    "encoder = Model(inputs=input_img,\n",
    "                outputs=encoded,\n",
    "                name='Encoder')"
   ]
  },
  {
   "cell_type": "code",
   "execution_count": null,
   "metadata": {
    "ExecuteTime": {
     "end_time": "2018-04-05T10:38:12.350380Z",
     "start_time": "2018-04-05T10:38:12.331221Z"
    },
    "slideshow": {
     "slide_type": "fragment"
    }
   },
   "outputs": [],
   "source": [
    "encoder.summary()"
   ]
  },
  {
   "cell_type": "markdown",
   "metadata": {
    "slideshow": {
     "slide_type": "subslide"
    }
   },
   "source": [
    "#### Decoder Model"
   ]
  },
  {
   "cell_type": "code",
   "execution_count": null,
   "metadata": {
    "ExecuteTime": {
     "end_time": "2018-04-05T10:38:12.373768Z",
     "start_time": "2018-04-05T10:38:12.356870Z"
    },
    "slideshow": {
     "slide_type": "fragment"
    }
   },
   "outputs": [],
   "source": [
    "# placeholder for encoded input\n",
    "encoded_input = Input(shape=(encoding_dim,))\n",
    "# rlast layer of the autoencoder model\n",
    "decoder_layer = autoencoder.layers[-1]\n",
    "# create the decoder model\n",
    "decoder = Model(inputs=encoded_input, \n",
    "                outputs=decoder_layer(encoded_input))"
   ]
  },
  {
   "cell_type": "code",
   "execution_count": null,
   "metadata": {
    "ExecuteTime": {
     "end_time": "2018-04-05T10:38:12.393182Z",
     "start_time": "2018-04-05T10:38:12.377431Z"
    },
    "slideshow": {
     "slide_type": "fragment"
    }
   },
   "outputs": [],
   "source": [
    "decoder.summary()"
   ]
  },
  {
   "cell_type": "markdown",
   "metadata": {
    "slideshow": {
     "slide_type": "subslide"
    }
   },
   "source": [
    "#### Compile the Autoencoder Model"
   ]
  },
  {
   "cell_type": "code",
   "execution_count": null,
   "metadata": {
    "ExecuteTime": {
     "end_time": "2018-04-05T10:38:12.446670Z",
     "start_time": "2018-04-05T10:38:12.398878Z"
    },
    "slideshow": {
     "slide_type": "fragment"
    }
   },
   "outputs": [],
   "source": [
    "autoencoder.compile(optimizer='adadelta', \n",
    "                    loss='binary_crossentropy'\n",
    "                   )"
   ]
  },
  {
   "cell_type": "markdown",
   "metadata": {
    "slideshow": {
     "slide_type": "subslide"
    }
   },
   "source": [
    "#### Create train & test MNIST data"
   ]
  },
  {
   "cell_type": "markdown",
   "metadata": {
    "slideshow": {
     "slide_type": "fragment"
    }
   },
   "source": [
    "Use `train_test_split`; normalize X values to $[0, 1]$"
   ]
  },
  {
   "cell_type": "code",
   "execution_count": null,
   "metadata": {
    "ExecuteTime": {
     "end_time": "2018-04-05T10:38:13.568340Z",
     "start_time": "2018-04-05T10:38:12.450881Z"
    },
    "slideshow": {
     "slide_type": "fragment"
    }
   },
   "outputs": [],
   "source": [
    "x_train, x_test, y_train, y_test = train_test_split(mnist.data/255., \n",
    "                                                    mnist.target, \n",
    "                                                    test_size=10000, \n",
    "                                                    random_state=42)"
   ]
  },
  {
   "cell_type": "markdown",
   "metadata": {
    "slideshow": {
     "slide_type": "subslide"
    }
   },
   "source": [
    "#### Create `early_stopping` callback"
   ]
  },
  {
   "cell_type": "code",
   "execution_count": null,
   "metadata": {
    "ExecuteTime": {
     "end_time": "2018-04-05T10:38:13.580978Z",
     "start_time": "2018-04-05T10:38:13.574050Z"
    },
    "slideshow": {
     "slide_type": "fragment"
    }
   },
   "outputs": [],
   "source": [
    "early_stopping = EarlyStopping(monitor='val_loss', \n",
    "                               min_delta=1e-5, \n",
    "                               patience=5, \n",
    "                               verbose=0, \n",
    "                               mode='auto')"
   ]
  },
  {
   "cell_type": "markdown",
   "metadata": {
    "slideshow": {
     "slide_type": "subslide"
    }
   },
   "source": [
    "#### Create TensorBard callback to visualize network performance"
   ]
  },
  {
   "cell_type": "code",
   "execution_count": null,
   "metadata": {
    "ExecuteTime": {
     "end_time": "2018-04-05T10:38:27.463099Z",
     "start_time": "2018-04-05T10:38:13.596837Z"
    },
    "slideshow": {
     "slide_type": "fragment"
    }
   },
   "outputs": [],
   "source": [
    "tb_callback = TensorBoard(log_dir='/tmp/autoencoder/mnist/', \n",
    "                          histogram_freq=5,\n",
    "                          write_graph=True, \n",
    "                          write_grads=True, \n",
    "                          write_images=True)"
   ]
  },
  {
   "cell_type": "markdown",
   "metadata": {
    "slideshow": {
     "slide_type": "subslide"
    }
   },
   "source": [
    "#### Fit the Model "
   ]
  },
  {
   "cell_type": "markdown",
   "metadata": {},
   "source": [
    "To avoid running time, you can load the pre-computed results in the 'data' folder (see below)"
   ]
  },
  {
   "cell_type": "code",
   "execution_count": null,
   "metadata": {
    "ExecuteTime": {
     "end_time": "2018-04-05T10:53:04.834124Z",
     "start_time": "2018-04-05T10:38:27.467815Z"
    },
    "run_control": {
     "marked": false
    },
    "scrolled": true,
    "slideshow": {
     "slide_type": "fragment"
    }
   },
   "outputs": [],
   "source": [
    "autoencoder.fit(x=x_train,\n",
    "                y=x_train,\n",
    "                epochs=1000,\n",
    "                batch_size=64,\n",
    "                shuffle=True,\n",
    "                validation_data=(x_test, x_test),\n",
    "                callbacks=[tb_callback, early_stopping])"
   ]
  },
  {
   "cell_type": "markdown",
   "metadata": {},
   "source": [
    "#### Load pre-trained model"
   ]
  },
  {
   "cell_type": "code",
   "execution_count": null,
   "metadata": {},
   "outputs": [],
   "source": [
    "# use path to pre-computed results in directory 'data' instead to skip model training\n",
    "with open(join('data', 'autoencoder.json'), 'r') as json_file:\n",
    "    loaded_model_json = json_file.read()\n",
    "    \n",
    "loaded_model = model_from_json(loaded_model_json)\n",
    "loaded_model.load_weights(join('data', 'autoencoder.h5')) # pre-computed"
   ]
  },
  {
   "cell_type": "markdown",
   "metadata": {
    "slideshow": {
     "slide_type": "slide"
    }
   },
   "source": [
    "#### Persist model to disk"
   ]
  },
  {
   "cell_type": "markdown",
   "metadata": {
    "slideshow": {
     "slide_type": "fragment"
    }
   },
   "source": [
    "Save model configuration as `json` and weights as `hdf`"
   ]
  },
  {
   "cell_type": "code",
   "execution_count": null,
   "metadata": {
    "ExecuteTime": {
     "end_time": "2018-04-05T10:53:09.802906Z",
     "start_time": "2018-04-05T10:53:09.725178Z"
    },
    "slideshow": {
     "slide_type": "fragment"
    }
   },
   "outputs": [],
   "source": [
    "model_json = autoencoder.to_json()\n",
    "with open(\"autoencoder.json\", \"w\") as json_file:\n",
    "    json_file.write(model_json)\n",
    "autoencoder.save_weights(\"autoencoder.h5\")"
   ]
  },
  {
   "cell_type": "code",
   "execution_count": null,
   "metadata": {
    "ExecuteTime": {
     "end_time": "2018-04-05T10:53:09.973591Z",
     "start_time": "2018-04-05T10:53:09.806416Z"
    },
    "slideshow": {
     "slide_type": "fragment"
    }
   },
   "outputs": [],
   "source": [
    "with open('autoencoder.json', 'r') as json_file:\n",
    "    loaded_model_json = json_file.read()\n",
    "\n",
    "loaded_model = model_from_json(loaded_model_json)\n",
    "loaded_model.load_weights(\"autoencoder.h5\")"
   ]
  },
  {
   "cell_type": "markdown",
   "metadata": {
    "slideshow": {
     "slide_type": "subslide"
    }
   },
   "source": [
    "#### Evaluate trained model "
   ]
  },
  {
   "cell_type": "code",
   "execution_count": null,
   "metadata": {
    "ExecuteTime": {
     "end_time": "2018-04-05T10:53:08.490792Z",
     "start_time": "2018-04-05T10:53:04.838345Z"
    },
    "slideshow": {
     "slide_type": "fragment"
    }
   },
   "outputs": [],
   "source": [
    "autoencoder.evaluate(x=x_train, y=x_train)"
   ]
  },
  {
   "cell_type": "markdown",
   "metadata": {
    "slideshow": {
     "slide_type": "subslide"
    }
   },
   "source": [
    "#### Encode and decode test images"
   ]
  },
  {
   "cell_type": "code",
   "execution_count": null,
   "metadata": {
    "ExecuteTime": {
     "end_time": "2018-04-05T10:53:10.216602Z",
     "start_time": "2018-04-05T10:53:09.976668Z"
    },
    "slideshow": {
     "slide_type": "fragment"
    }
   },
   "outputs": [],
   "source": [
    "encoded_test_img = encoder.predict(x_test)\n",
    "encoded_test_img.shape"
   ]
  },
  {
   "cell_type": "code",
   "execution_count": null,
   "metadata": {
    "ExecuteTime": {
     "end_time": "2018-04-05T10:53:10.546146Z",
     "start_time": "2018-04-05T10:53:10.222053Z"
    },
    "slideshow": {
     "slide_type": "fragment"
    }
   },
   "outputs": [],
   "source": [
    "decoded_test_img = decoder.predict(encoded_test_img)\n",
    "decoded_test_img.shape"
   ]
  },
  {
   "cell_type": "markdown",
   "metadata": {
    "slideshow": {
     "slide_type": "subslide"
    }
   },
   "source": [
    "#### Compare Original with Reconstructed Samples "
   ]
  },
  {
   "cell_type": "code",
   "execution_count": null,
   "metadata": {
    "ExecuteTime": {
     "end_time": "2018-04-05T10:53:11.526512Z",
     "start_time": "2018-04-05T10:53:10.549741Z"
    },
    "slideshow": {
     "slide_type": "fragment"
    }
   },
   "outputs": [],
   "source": [
    "n_digits = 10\n",
    "fig, axes = plt.subplots(ncols=n_digits, nrows=2, figsize=(20, 4))\n",
    "for i in range(n_digits):\n",
    "    \n",
    "    axes[0, i].imshow(x_test[i].reshape(img_size, img_size), cmap='Blues')\n",
    "    axes[0, i].axis('off')\n",
    "\n",
    "    axes[1, i].imshow(decoded_test_img[i].reshape(28, 28), cmap='Blues')\n",
    "    axes[1, i].axis('off')"
   ]
  },
  {
   "cell_type": "markdown",
   "metadata": {
    "slideshow": {
     "slide_type": "subslide"
    }
   },
   "source": [
    "#### Compute t-SNE Embedding"
   ]
  },
  {
   "cell_type": "markdown",
   "metadata": {},
   "source": [
    "Since t-SNE can take a long time to run, we are providing pre-computed results"
   ]
  },
  {
   "cell_type": "code",
   "execution_count": null,
   "metadata": {},
   "outputs": [],
   "source": [
    "# Load the pre-computed results here:\n",
    "df = pd.read_csv(join('data', 'mnist_autoencoder_tsne.csv.gz'))\n",
    "train_embed = df.iloc[:, :2]\n",
    "y_train = df.y_train"
   ]
  },
  {
   "cell_type": "code",
   "execution_count": null,
   "metadata": {
    "ExecuteTime": {
     "end_time": "2018-04-05T12:22:03.650308Z",
     "start_time": "2018-04-05T10:53:11.530884Z"
    },
    "slideshow": {
     "slide_type": "fragment"
    }
   },
   "outputs": [],
   "source": [
    "# alternatively, compute the result yourself\n",
    "# tsne = TSNE(perplexity=25, n_iter=5000)\n",
    "# train_embed = tsne.fit_transform(encoder.predict(x_train).reshape(x_train.shape[0], -1))"
   ]
  },
  {
   "cell_type": "code",
   "execution_count": null,
   "metadata": {},
   "outputs": [],
   "source": [
    "# store results given computational intensity (different location to avoid overwriting the pre-computed results)\n",
    "# train_embed.assign(y_train=y_train).to_csv('mnist_autoencoder_tsne.csv.gz', index=False, compression='gzip')"
   ]
  },
  {
   "cell_type": "markdown",
   "metadata": {
    "slideshow": {
     "slide_type": "subslide"
    }
   },
   "source": [
    "#### Visualize Embedding"
   ]
  },
  {
   "cell_type": "code",
   "execution_count": null,
   "metadata": {
    "ExecuteTime": {
     "end_time": "2018-04-05T12:22:03.653834Z",
     "start_time": "2018-04-05T10:38:05.444Z"
    },
    "slideshow": {
     "slide_type": "fragment"
    }
   },
   "outputs": [],
   "source": [
    "def plot_embedding(X, y=y_train, title=None, min_dist=0.1, n_classes=10, cmap=cmap):\n",
    "    classes = list(range(n_classes))\n",
    "    X = minmax_scale(X)\n",
    "    inner = outer = 0\n",
    "    for c in classes:\n",
    "        inner += np.mean(pdist(X[y == c]))\n",
    "        outer += np.mean(cdist(X[y == c], X[y != c]))\n",
    "    fig, ax = plt.subplots()\n",
    "    ax.axis('off')\n",
    "    ax.set_title(title + ' | Distance: {:.2%}'.format(inner/outer))\n",
    "    sc = ax.scatter(*X.T, c=y, cmap=ListedColormap(cmap), s=5);\n",
    "    shown_images = np.array([[1., 1.]])\n",
    "    images = x_train.reshape(-1, 28, 28)\n",
    "    for i in range(0, X.shape[0]):\n",
    "        dist = norm(X[i] - shown_images, axis=1)\n",
    "        if (dist > min_dist).all():\n",
    "            shown_images = np.r_[shown_images, [X[i]]]\n",
    "            imagebox = AnnotationBbox(\n",
    "                OffsetImage(images[i], cmap=plt.cm.gray_r), X[i])\n",
    "            ax.add_artist(imagebox)\n",
    "    divider = make_axes_locatable(ax)\n",
    "    cax = divider.append_axes(\"right\", size=\"2%\", pad=0.05)\n",
    "    plt.colorbar(sc, cax=cax)\n",
    "    fig.tight_layout()"
   ]
  },
  {
   "cell_type": "code",
   "execution_count": null,
   "metadata": {
    "ExecuteTime": {
     "end_time": "2018-04-05T12:22:03.656402Z",
     "start_time": "2018-04-05T10:38:05.448Z"
    },
    "slideshow": {
     "slide_type": "subslide"
    }
   },
   "outputs": [],
   "source": [
    "plot_embedding(X=train_embed, title='t-SNE & Baseline Autoencoder')"
   ]
  }
 ],
 "metadata": {
  "celltoolbar": "Slideshow",
  "hide_input": false,
  "kernelspec": {
   "display_name": "Python 3",
   "language": "python",
   "name": "python3"
  },
  "language_info": {
   "codemirror_mode": {
    "name": "ipython",
    "version": 3
   },
   "file_extension": ".py",
   "mimetype": "text/x-python",
   "name": "python",
   "nbconvert_exporter": "python",
   "pygments_lexer": "ipython3",
   "version": "3.6.4"
  },
  "toc": {
   "nav_menu": {},
   "number_sections": true,
   "sideBar": true,
   "skip_h1_title": false,
   "toc_cell": false,
   "toc_position": {},
   "toc_section_display": "block",
   "toc_window_display": true
  }
 },
 "nbformat": 4,
 "nbformat_minor": 1
}
