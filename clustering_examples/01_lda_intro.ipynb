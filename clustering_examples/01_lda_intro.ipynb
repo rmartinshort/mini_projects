{
 "cells": [
  {
   "cell_type": "code",
   "execution_count": null,
   "metadata": {
    "ExecuteTime": {
     "end_time": "2018-04-04T15:48:43.486560Z",
     "start_time": "2018-04-04T15:48:43.478796Z"
    },
    "slideshow": {
     "slide_type": "skip"
    }
   },
   "outputs": [],
   "source": [
    "import matplotlib.pyplot as plt\n",
    "import pandas as pd\n",
    "import numpy as np\n",
    "import seaborn as sns\n",
    "from sklearn.decomposition import LatentDirichletAllocation\n",
    "from sklearn.feature_extraction.text import CountVectorizer\n",
    "from sklearn.model_selection import train_test_split\n",
    "from sklearn.externals import joblib\n",
    "from pathlib import Path\n",
    "from termcolor import colored\n",
    "from wordcloud import WordCloud\n",
    "from numpy.random import dirichlet\n",
    "from ipywidgets import interact, FloatSlider"
   ]
  },
  {
   "cell_type": "code",
   "execution_count": null,
   "metadata": {
    "ExecuteTime": {
     "end_time": "2018-04-04T15:48:43.504492Z",
     "start_time": "2018-04-04T15:48:43.491073Z"
    }
   },
   "outputs": [],
   "source": [
    "% matplotlib inline\n",
    "pd.options.display.float_format = '{:,.2f}'.format"
   ]
  },
  {
   "cell_type": "code",
   "execution_count": null,
   "metadata": {
    "ExecuteTime": {
     "end_time": "2018-04-04T15:48:43.518594Z",
     "start_time": "2018-04-04T15:48:43.508056Z"
    },
    "slideshow": {
     "slide_type": "skip"
    }
   },
   "outputs": [],
   "source": [
    "from jupyterthemes import jtplot\n",
    "jtplot.style(theme='onedork', context='talk', fscale=1.4, spines=False, gridlines='--', ticks=True, grid=False, figsize=(14, 8))"
   ]
  },
  {
   "cell_type": "markdown",
   "metadata": {
    "slideshow": {
     "slide_type": "slide"
    }
   },
   "source": [
    "### Simulate Dirichlet Distribution"
   ]
  },
  {
   "cell_type": "code",
   "execution_count": null,
   "metadata": {
    "ExecuteTime": {
     "end_time": "2018-04-04T15:48:44.696120Z",
     "start_time": "2018-04-04T15:48:43.523217Z"
    },
    "hide_input": true,
    "slideshow": {
     "slide_type": "fragment"
    }
   },
   "outputs": [],
   "source": [
    "f=FloatSlider(value=1, min=1e-2, max=1e2, step=1e-2, continuous_update=False, description='Alpha')\n",
    "@interact(alpha=f)\n",
    "def sample_dirichlet(alpha):\n",
    "    topics = 10\n",
    "    draws= 9\n",
    "    alphas = np.full(shape=topics, fill_value=alpha)\n",
    "    samples = dirichlet(alpha=alphas, size=draws)\n",
    "    fig, axes = plt.subplots(nrows=3, ncols=3, sharex=True, sharey=True)\n",
    "    axes = axes.flatten()\n",
    "    plt.setp(axes, ylim=(0, 1))\n",
    "    for i, sample in enumerate(samples):\n",
    "        axes[i].bar(x=list(range(10)), height=sample, color=sns.color_palette(\"Set2\", 10))\n",
    "    fig.suptitle('Dirichlet Allocation | 10 Topics, 9 Samples')\n",
    "    fig.tight_layout()\n",
    "    plt.subplots_adjust(top=.95)"
   ]
  },
  {
   "cell_type": "markdown",
   "metadata": {
    "slideshow": {
     "slide_type": "skip"
    }
   },
   "source": [
    "### Load BBC data"
   ]
  },
  {
   "cell_type": "markdown",
   "metadata": {},
   "source": [
    "Most of the following steps are not shown in the video since this is a preview of the results that will be introduced throughout this section. The code will be explained in the following segments."
   ]
  },
  {
   "cell_type": "code",
   "execution_count": null,
   "metadata": {
    "ExecuteTime": {
     "end_time": "2018-04-04T15:48:47.584182Z",
     "start_time": "2018-04-04T15:48:44.875116Z"
    },
    "slideshow": {
     "slide_type": "skip"
    }
   },
   "outputs": [],
   "source": [
    "path = Path('bbc')\n",
    "files = path.glob('**/*.txt')\n",
    "doc_list = []\n",
    "for i, file in enumerate(files):\n",
    "    with open(str(file), encoding='latin1') as f:\n",
    "        _, topic, file_name = file.parts\n",
    "\n",
    "        lines = f.readlines()\n",
    "        file_id = file_name.split('.')[0]\n",
    "        heading = lines[0].strip()\n",
    "        body = ' '.join([l.strip() for l in lines[1:]])\n",
    "        doc_list.append([topic, heading, body])"
   ]
  },
  {
   "cell_type": "markdown",
   "metadata": {
    "slideshow": {
     "slide_type": "skip"
    }
   },
   "source": [
    "### Convert to DataFrame"
   ]
  },
  {
   "cell_type": "code",
   "execution_count": null,
   "metadata": {
    "ExecuteTime": {
     "end_time": "2018-04-04T15:48:47.645301Z",
     "start_time": "2018-04-04T15:48:47.592386Z"
    },
    "slideshow": {
     "slide_type": "skip"
    }
   },
   "outputs": [],
   "source": [
    "docs = pd.DataFrame(doc_list, columns=['topic', 'heading', 'article'])\n",
    "print(docs.info())"
   ]
  },
  {
   "cell_type": "markdown",
   "metadata": {
    "slideshow": {
     "slide_type": "skip"
    }
   },
   "source": [
    "### Vectorize train & test sets"
   ]
  },
  {
   "cell_type": "code",
   "execution_count": null,
   "metadata": {
    "ExecuteTime": {
     "end_time": "2018-04-04T15:48:47.665926Z",
     "start_time": "2018-04-04T15:48:47.649716Z"
    },
    "slideshow": {
     "slide_type": "skip"
    }
   },
   "outputs": [],
   "source": [
    "train_docs, test_docs = train_test_split(docs, stratify=docs.topic, test_size=50, random_state=42)"
   ]
  },
  {
   "cell_type": "code",
   "execution_count": null,
   "metadata": {
    "ExecuteTime": {
     "end_time": "2018-04-04T15:48:51.777380Z",
     "start_time": "2018-04-04T15:48:47.670350Z"
    },
    "slideshow": {
     "slide_type": "skip"
    }
   },
   "outputs": [],
   "source": [
    "vectorizer = CountVectorizer(max_df=.2, min_df=3, stop_words='english', max_features=2000)\n",
    "train_dtm = vectorizer.fit_transform(train_docs.article)\n",
    "words = vectorizer.get_feature_names()\n",
    "train_dtm"
   ]
  },
  {
   "cell_type": "code",
   "execution_count": null,
   "metadata": {
    "ExecuteTime": {
     "end_time": "2018-04-04T15:48:51.810673Z",
     "start_time": "2018-04-04T15:48:51.801761Z"
    },
    "slideshow": {
     "slide_type": "skip"
    }
   },
   "outputs": [],
   "source": [
    "topic_labels = ['Topic {}'.format(i) for i in range(1, 6)]"
   ]
  },
  {
   "cell_type": "code",
   "execution_count": null,
   "metadata": {
    "ExecuteTime": {
     "end_time": "2018-04-04T15:49:42.994987Z",
     "start_time": "2018-04-04T15:48:51.814678Z"
    },
    "slideshow": {
     "slide_type": "skip"
    }
   },
   "outputs": [],
   "source": [
    "lda = LatentDirichletAllocation(n_components=5, n_jobs=-1, max_iter=500,\n",
    "                                learning_method='batch', evaluate_every=5, \n",
    "                                verbose=1, random_state=42)\n",
    "lda.fit(train_dtm)"
   ]
  },
  {
   "cell_type": "code",
   "execution_count": null,
   "metadata": {
    "ExecuteTime": {
     "end_time": "2018-04-04T15:49:43.016424Z",
     "start_time": "2018-04-04T15:49:43.001483Z"
    },
    "slideshow": {
     "slide_type": "skip"
    }
   },
   "outputs": [],
   "source": [
    "joblib.dump(lda, 'lda_demo.pkl')\n",
    "lda = joblib.load('lda_demo.pkl')"
   ]
  },
  {
   "cell_type": "code",
   "execution_count": null,
   "metadata": {
    "ExecuteTime": {
     "end_time": "2018-04-04T15:49:44.013207Z",
     "start_time": "2018-04-04T15:49:43.036373Z"
    },
    "slideshow": {
     "slide_type": "skip"
    }
   },
   "outputs": [],
   "source": [
    "train_result = pd.DataFrame(data=lda.transform(train_dtm),\n",
    "                            columns=topic_labels,\n",
    "                            index=train_docs.topic)"
   ]
  },
  {
   "cell_type": "code",
   "execution_count": null,
   "metadata": {
    "ExecuteTime": {
     "end_time": "2018-04-04T15:49:44.702495Z",
     "start_time": "2018-04-04T15:49:44.019630Z"
    },
    "slideshow": {
     "slide_type": "skip"
    }
   },
   "outputs": [],
   "source": [
    "df = train_result.groupby(level='topic').idxmax(\n",
    "    axis=1).reset_index(-1, drop=True)\n",
    "sns.heatmap(df.groupby(level='topic').value_counts(normalize=True)\n",
    "            .unstack(-1), annot=True, fmt='.1%', cmap='Blues', square=True)\n",
    "plt.title('Train Data: Topic Assignments');"
   ]
  },
  {
   "cell_type": "code",
   "execution_count": null,
   "metadata": {
    "ExecuteTime": {
     "end_time": "2018-04-04T15:49:44.763161Z",
     "start_time": "2018-04-04T15:49:44.707022Z"
    },
    "slideshow": {
     "slide_type": "skip"
    }
   },
   "outputs": [],
   "source": [
    "topics_prob = lda.components_ / lda.components_.sum(axis=1).reshape(-1, 1)\n",
    "topics = pd.DataFrame(topics_prob.T,\n",
    "                      index=words,\n",
    "                      columns=topic_labels)\n",
    "topics.head()"
   ]
  },
  {
   "cell_type": "code",
   "execution_count": null,
   "metadata": {
    "ExecuteTime": {
     "end_time": "2018-04-04T15:50:00.546320Z",
     "start_time": "2018-04-04T15:49:44.773725Z"
    },
    "hide_input": false,
    "slideshow": {
     "slide_type": "skip"
    }
   },
   "outputs": [],
   "source": [
    "w = WordCloud()\n",
    "fig, axes = plt.subplots(ncols=3, nrows=2, figsize=(25, 12))\n",
    "axes = axes.flatten()\n",
    "for t, (topic, freq) in enumerate(topics.items()):\n",
    "    w.generate_from_frequencies(freq.to_dict())\n",
    "    axes[t].imshow(w, interpolation='bilinear')\n",
    "    axes[t].set_title(topic, fontsize=18)\n",
    "    axes[t].axis('off')\n",
    "axes[5].set_visible(False)\n",
    "plt.tight_layout()"
   ]
  },
  {
   "cell_type": "code",
   "execution_count": null,
   "metadata": {
    "ExecuteTime": {
     "end_time": "2018-04-04T15:50:00.846138Z",
     "start_time": "2018-04-04T15:50:00.727123Z"
    },
    "slideshow": {
     "slide_type": "skip"
    }
   },
   "outputs": [],
   "source": [
    "train_result['article'] = train_docs.article.values\n",
    "train_result['heading'] = train_docs.heading.values\n",
    "sample = train_result[train_result[topic_labels].gt(.1).all(1)]\n",
    "sample"
   ]
  },
  {
   "cell_type": "code",
   "execution_count": null,
   "metadata": {
    "ExecuteTime": {
     "end_time": "2018-04-04T15:50:00.860652Z",
     "start_time": "2018-04-04T15:50:00.851798Z"
    },
    "slideshow": {
     "slide_type": "skip"
    }
   },
   "outputs": [],
   "source": [
    "from collections import OrderedDict\n",
    "color_dict = OrderedDict()\n",
    "color_dict['Topic 1'] = {'color': 'white', 'on_color': 'on_blue'}\n",
    "color_dict['Topic 2'] = {'color': 'white', 'on_color': 'on_green'}\n",
    "color_dict['Topic 3'] = {'color': 'white', 'on_color': 'on_red'}\n",
    "color_dict['Topic 4'] = {'color': 'white', 'on_color': 'on_magenta'}\n",
    "color_dict['Topic 5'] = {'color': 'blue', 'on_color': 'on_yellow'}"
   ]
  },
  {
   "cell_type": "code",
   "execution_count": null,
   "metadata": {
    "ExecuteTime": {
     "end_time": "2018-04-04T15:50:06.264977Z",
     "start_time": "2018-04-04T15:50:00.865335Z"
    },
    "hide_input": false,
    "slideshow": {
     "slide_type": "skip"
    }
   },
   "outputs": [],
   "source": [
    "sample[topic_labels].plot.bar(title='Topics Distribution - Sample Article')\n",
    "plt.xlabel('')\n",
    "plt.xticks([])\n",
    "plt.tight_layout()"
   ]
  },
  {
   "cell_type": "code",
   "execution_count": null,
   "metadata": {
    "ExecuteTime": {
     "end_time": "2018-04-04T15:50:06.614139Z",
     "start_time": "2018-04-04T15:50:06.270904Z"
    },
    "hide_input": false,
    "slideshow": {
     "slide_type": "slide"
    }
   },
   "outputs": [],
   "source": [
    "colored_text = []\n",
    "for word in sample.iloc[0, 5].split():\n",
    "    try:\n",
    "        topic = topics.loc[word.strip().lower()].idxmax()\n",
    "        colored_text.append(colored(word, **color_dict[topic]))\n",
    "    except:\n",
    "        colored_text.append(word)\n",
    "    \n",
    "\n",
    "print(' '.join([colored(k, **v) for k, v in color_dict.items()]))\n",
    "print('\\n',sample.iloc[0, 6], '\\n')\n",
    "text = ' '.join(colored_text)\n",
    "print(text)"
   ]
  }
 ],
 "metadata": {
  "celltoolbar": "Slideshow",
  "hide_input": false,
  "kernelspec": {
   "display_name": "Python 3",
   "language": "python",
   "name": "python3"
  },
  "language_info": {
   "codemirror_mode": {
    "name": "ipython",
    "version": 3
   },
   "file_extension": ".py",
   "mimetype": "text/x-python",
   "name": "python",
   "nbconvert_exporter": "python",
   "pygments_lexer": "ipython3",
   "version": "3.6.7"
  }
 },
 "nbformat": 4,
 "nbformat_minor": 2
}
