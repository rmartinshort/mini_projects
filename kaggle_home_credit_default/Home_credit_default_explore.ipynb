{
 "cells": [
  {
   "cell_type": "markdown",
   "metadata": {},
   "source": [
    "#### Kaggle home credit default risk dataset\n",
    "\n",
    "Attempt to predict if a customer will default on their payments from various lifestyle characteristics. This is an example of an anomaly identification problem.\n",
    "\n",
    "We investiage a few different classfiers: RandomForest produces high scores, but these are deciptive because the number of true negatives is so high. The random forest actually does a very poor job of classifiying the default cases correctly.\n",
    "\n",
    "SVMs might be a better option, but these take a really long time to train. We try to get around this with a sampling experiment: Keep all of the positive instances and the downsample the negative instances until the class sizes are roughly equal. An SVM might then train in a reasonable time"
   ]
  },
  {
   "cell_type": "code",
   "execution_count": 1,
   "metadata": {},
   "outputs": [],
   "source": [
    "import pandas as pd\n",
    "import numpy as np\n",
    "import matplotlib.pyplot as plt\n",
    "import seaborn as sns"
   ]
  },
  {
   "cell_type": "code",
   "execution_count": 2,
   "metadata": {},
   "outputs": [],
   "source": [
    "#We shouldn't need this, since the labels in the target are just 0 and 1, but it is probably good\n",
    "#practice to use it\n",
    "from sklearn.preprocessing import LabelEncoder"
   ]
  },
  {
   "cell_type": "code",
   "execution_count": 3,
   "metadata": {},
   "outputs": [],
   "source": [
    "application_train = pd.read_csv('application_train.csv')"
   ]
  },
  {
   "cell_type": "markdown",
   "metadata": {},
   "source": [
    "The data is probably unbalanced. Lets see how severe this is"
   ]
  },
  {
   "cell_type": "code",
   "execution_count": 9,
   "metadata": {},
   "outputs": [
    {
     "data": {
      "image/png": "[encoded data removed]",
      "text/plain": [
       "<Figure size 432x288 with 1 Axes>"
      ]
     },
     "metadata": {},
     "output_type": "display_data"
    }
   ],
   "source": [
    "sns.countplot(application_train['TARGET'])\n",
    "target = application_train['TARGET']"
   ]
  },
  {
   "cell_type": "code",
   "execution_count": 10,
   "metadata": {},
   "outputs": [
    {
     "data": {
      "text/plain": [
       "8.781828601345662"
      ]
     },
     "execution_count": 10,
     "metadata": {},
     "output_type": "execute_result"
    }
   ],
   "source": [
    "100*len(target[target==1])/len(target[target==0])"
   ]
  },
  {
   "cell_type": "markdown",
   "metadata": {},
   "source": [
    "So about 9% of the data instances are positive. This is not quite as unbalanced as expected. Typically SMV classifiers work well with such data, but we can investigate a few different types"
   ]
  },
  {
   "cell_type": "code",
   "execution_count": 11,
   "metadata": {},
   "outputs": [
    {
     "data": {
      "text/html": [
       "<div>\n",
       "<style scoped>\n",
       "    .dataframe tbody tr th:only-of-type {\n",
       "        vertical-align: middle;\n",
       "    }\n",
       "\n",
       "    .dataframe tbody tr th {\n",
       "        vertical-align: top;\n",
       "    }\n",
       "\n",
       "    .dataframe thead th {\n",
       "        text-align: right;\n",
       "    }\n",
       "</style>\n",
       "<table border=\"1\" class=\"dataframe\">\n",
       "  <thead>\n",
       "    <tr style=\"text-align: right;\">\n",
       "      <th></th>\n",
       "      <th>SK_ID_CURR</th>\n",
       "      <th>TARGET</th>\n",
       "      <th>NAME_CONTRACT_TYPE</th>\n",
       "      <th>CODE_GENDER</th>\n",
       "      <th>FLAG_OWN_CAR</th>\n",
       "      <th>FLAG_OWN_REALTY</th>\n",
       "      <th>CNT_CHILDREN</th>\n",
       "      <th>AMT_INCOME_TOTAL</th>\n",
       "      <th>AMT_CREDIT</th>\n",
       "      <th>AMT_ANNUITY</th>\n",
       "      <th>...</th>\n",
       "      <th>FLAG_DOCUMENT_18</th>\n",
       "      <th>FLAG_DOCUMENT_19</th>\n",
       "      <th>FLAG_DOCUMENT_20</th>\n",
       "      <th>FLAG_DOCUMENT_21</th>\n",
       "      <th>AMT_REQ_CREDIT_BUREAU_HOUR</th>\n",
       "      <th>AMT_REQ_CREDIT_BUREAU_DAY</th>\n",
       "      <th>AMT_REQ_CREDIT_BUREAU_WEEK</th>\n",
       "      <th>AMT_REQ_CREDIT_BUREAU_MON</th>\n",
       "      <th>AMT_REQ_CREDIT_BUREAU_QRT</th>\n",
       "      <th>AMT_REQ_CREDIT_BUREAU_YEAR</th>\n",
       "    </tr>\n",
       "  </thead>\n",
       "  <tbody>\n",
       "    <tr>\n",
       "      <th>0</th>\n",
       "      <td>100002</td>\n",
       "      <td>1</td>\n",
       "      <td>Cash loans</td>\n",
       "      <td>M</td>\n",
       "      <td>N</td>\n",
       "      <td>Y</td>\n",
       "      <td>0</td>\n",
       "      <td>202500.0</td>\n",
       "      <td>406597.5</td>\n",
       "      <td>24700.5</td>\n",
       "      <td>...</td>\n",
       "      <td>0</td>\n",
       "      <td>0</td>\n",
       "      <td>0</td>\n",
       "      <td>0</td>\n",
       "      <td>0.0</td>\n",
       "      <td>0.0</td>\n",
       "      <td>0.0</td>\n",
       "      <td>0.0</td>\n",
       "      <td>0.0</td>\n",
       "      <td>1.0</td>\n",
       "    </tr>\n",
       "    <tr>\n",
       "      <th>1</th>\n",
       "      <td>100003</td>\n",
       "      <td>0</td>\n",
       "      <td>Cash loans</td>\n",
       "      <td>F</td>\n",
       "      <td>N</td>\n",
       "      <td>N</td>\n",
       "      <td>0</td>\n",
       "      <td>270000.0</td>\n",
       "      <td>1293502.5</td>\n",
       "      <td>35698.5</td>\n",
       "      <td>...</td>\n",
       "      <td>0</td>\n",
       "      <td>0</td>\n",
       "      <td>0</td>\n",
       "      <td>0</td>\n",
       "      <td>0.0</td>\n",
       "      <td>0.0</td>\n",
       "      <td>0.0</td>\n",
       "      <td>0.0</td>\n",
       "      <td>0.0</td>\n",
       "      <td>0.0</td>\n",
       "    </tr>\n",
       "    <tr>\n",
       "      <th>2</th>\n",
       "      <td>100004</td>\n",
       "      <td>0</td>\n",
       "      <td>Revolving loans</td>\n",
       "      <td>M</td>\n",
       "      <td>Y</td>\n",
       "      <td>Y</td>\n",
       "      <td>0</td>\n",
       "      <td>67500.0</td>\n",
       "      <td>135000.0</td>\n",
       "      <td>6750.0</td>\n",
       "      <td>...</td>\n",
       "      <td>0</td>\n",
       "      <td>0</td>\n",
       "      <td>0</td>\n",
       "      <td>0</td>\n",
       "      <td>0.0</td>\n",
       "      <td>0.0</td>\n",
       "      <td>0.0</td>\n",
       "      <td>0.0</td>\n",
       "      <td>0.0</td>\n",
       "      <td>0.0</td>\n",
       "    </tr>\n",
       "    <tr>\n",
       "      <th>3</th>\n",
       "      <td>100006</td>\n",
       "      <td>0</td>\n",
       "      <td>Cash loans</td>\n",
       "      <td>F</td>\n",
       "      <td>N</td>\n",
       "      <td>Y</td>\n",
       "      <td>0</td>\n",
       "      <td>135000.0</td>\n",
       "      <td>312682.5</td>\n",
       "      <td>29686.5</td>\n",
       "      <td>...</td>\n",
       "      <td>0</td>\n",
       "      <td>0</td>\n",
       "      <td>0</td>\n",
       "      <td>0</td>\n",
       "      <td>NaN</td>\n",
       "      <td>NaN</td>\n",
       "      <td>NaN</td>\n",
       "      <td>NaN</td>\n",
       "      <td>NaN</td>\n",
       "      <td>NaN</td>\n",
       "    </tr>\n",
       "    <tr>\n",
       "      <th>4</th>\n",
       "      <td>100007</td>\n",
       "      <td>0</td>\n",
       "      <td>Cash loans</td>\n",
       "      <td>M</td>\n",
       "      <td>N</td>\n",
       "      <td>Y</td>\n",
       "      <td>0</td>\n",
       "      <td>121500.0</td>\n",
       "      <td>513000.0</td>\n",
       "      <td>21865.5</td>\n",
       "      <td>...</td>\n",
       "      <td>0</td>\n",
       "      <td>0</td>\n",
       "      <td>0</td>\n",
       "      <td>0</td>\n",
       "      <td>0.0</td>\n",
       "      <td>0.0</td>\n",
       "      <td>0.0</td>\n",
       "      <td>0.0</td>\n",
       "      <td>0.0</td>\n",
       "      <td>0.0</td>\n",
       "    </tr>\n",
       "  </tbody>\n",
       "</table>\n",
       "<p>5 rows × 122 columns</p>\n",
       "</div>"
      ],
      "text/plain": [
       "   SK_ID_CURR  TARGET NAME_CONTRACT_TYPE CODE_GENDER FLAG_OWN_CAR  \\\n",
       "0      100002       1         Cash loans           M            N   \n",
       "1      100003       0         Cash loans           F            N   \n",
       "2      100004       0    Revolving loans           M            Y   \n",
       "3      100006       0         Cash loans           F            N   \n",
       "4      100007       0         Cash loans           M            N   \n",
       "\n",
       "  FLAG_OWN_REALTY  CNT_CHILDREN  AMT_INCOME_TOTAL  AMT_CREDIT  AMT_ANNUITY  \\\n",
       "0               Y             0          202500.0    406597.5      24700.5   \n",
       "1               N             0          270000.0   1293502.5      35698.5   \n",
       "2               Y             0           67500.0    135000.0       6750.0   \n",
       "3               Y             0          135000.0    312682.5      29686.5   \n",
       "4               Y             0          121500.0    513000.0      21865.5   \n",
       "\n",
       "              ...              FLAG_DOCUMENT_18 FLAG_DOCUMENT_19  \\\n",
       "0             ...                             0                0   \n",
       "1             ...                             0                0   \n",
       "2             ...                             0                0   \n",
       "3             ...                             0                0   \n",
       "4             ...                             0                0   \n",
       "\n",
       "  FLAG_DOCUMENT_20 FLAG_DOCUMENT_21 AMT_REQ_CREDIT_BUREAU_HOUR  \\\n",
       "0                0                0                        0.0   \n",
       "1                0                0                        0.0   \n",
       "2                0                0                        0.0   \n",
       "3                0                0                        NaN   \n",
       "4                0                0                        0.0   \n",
       "\n",
       "  AMT_REQ_CREDIT_BUREAU_DAY  AMT_REQ_CREDIT_BUREAU_WEEK  \\\n",
       "0                       0.0                         0.0   \n",
       "1                       0.0                         0.0   \n",
       "2                       0.0                         0.0   \n",
       "3                       NaN                         NaN   \n",
       "4                       0.0                         0.0   \n",
       "\n",
       "   AMT_REQ_CREDIT_BUREAU_MON  AMT_REQ_CREDIT_BUREAU_QRT  \\\n",
       "0                        0.0                        0.0   \n",
       "1                        0.0                        0.0   \n",
       "2                        0.0                        0.0   \n",
       "3                        NaN                        NaN   \n",
       "4                        0.0                        0.0   \n",
       "\n",
       "   AMT_REQ_CREDIT_BUREAU_YEAR  \n",
       "0                         1.0  \n",
       "1                         0.0  \n",
       "2                         0.0  \n",
       "3                         NaN  \n",
       "4                         0.0  \n",
       "\n",
       "[5 rows x 122 columns]"
      ]
     },
     "execution_count": 11,
     "metadata": {},
     "output_type": "execute_result"
    }
   ],
   "source": [
    "application_train.head()"
   ]
  },
  {
   "cell_type": "markdown",
   "metadata": {},
   "source": [
    "We should investigate which columns have null values"
   ]
  },
  {
   "cell_type": "code",
   "execution_count": 12,
   "metadata": {},
   "outputs": [
    {
     "data": {
      "text/plain": [
       "SK_ID_CURR                    0.000000\n",
       "TARGET                        0.000000\n",
       "NAME_CONTRACT_TYPE            0.000000\n",
       "CODE_GENDER                   0.000000\n",
       "FLAG_OWN_CAR                  0.000000\n",
       "FLAG_OWN_REALTY               0.000000\n",
       "CNT_CHILDREN                  0.000000\n",
       "AMT_INCOME_TOTAL              0.000000\n",
       "AMT_CREDIT                    0.000000\n",
       "AMT_ANNUITY                   0.000039\n",
       "AMT_GOODS_PRICE               0.000904\n",
       "NAME_TYPE_SUITE               0.004201\n",
       "NAME_INCOME_TYPE              0.000000\n",
       "NAME_EDUCATION_TYPE           0.000000\n",
       "NAME_FAMILY_STATUS            0.000000\n",
       "NAME_HOUSING_TYPE             0.000000\n",
       "REGION_POPULATION_RELATIVE    0.000000\n",
       "DAYS_BIRTH                    0.000000\n",
       "DAYS_EMPLOYED                 0.000000\n",
       "DAYS_REGISTRATION             0.000000\n",
       "DAYS_ID_PUBLISH               0.000000\n",
       "OWN_CAR_AGE                   0.659908\n",
       "FLAG_MOBIL                    0.000000\n",
       "FLAG_EMP_PHONE                0.000000\n",
       "FLAG_WORK_PHONE               0.000000\n",
       "FLAG_CONT_MOBILE              0.000000\n",
       "FLAG_PHONE                    0.000000\n",
       "FLAG_EMAIL                    0.000000\n",
       "OCCUPATION_TYPE               0.313455\n",
       "CNT_FAM_MEMBERS               0.000007\n",
       "                                ...   \n",
       "DEF_30_CNT_SOCIAL_CIRCLE      0.003320\n",
       "OBS_60_CNT_SOCIAL_CIRCLE      0.003320\n",
       "DEF_60_CNT_SOCIAL_CIRCLE      0.003320\n",
       "DAYS_LAST_PHONE_CHANGE        0.000003\n",
       "FLAG_DOCUMENT_2               0.000000\n",
       "FLAG_DOCUMENT_3               0.000000\n",
       "FLAG_DOCUMENT_4               0.000000\n",
       "FLAG_DOCUMENT_5               0.000000\n",
       "FLAG_DOCUMENT_6               0.000000\n",
       "FLAG_DOCUMENT_7               0.000000\n",
       "FLAG_DOCUMENT_8               0.000000\n",
       "FLAG_DOCUMENT_9               0.000000\n",
       "FLAG_DOCUMENT_10              0.000000\n",
       "FLAG_DOCUMENT_11              0.000000\n",
       "FLAG_DOCUMENT_12              0.000000\n",
       "FLAG_DOCUMENT_13              0.000000\n",
       "FLAG_DOCUMENT_14              0.000000\n",
       "FLAG_DOCUMENT_15              0.000000\n",
       "FLAG_DOCUMENT_16              0.000000\n",
       "FLAG_DOCUMENT_17              0.000000\n",
       "FLAG_DOCUMENT_18              0.000000\n",
       "FLAG_DOCUMENT_19              0.000000\n",
       "FLAG_DOCUMENT_20              0.000000\n",
       "FLAG_DOCUMENT_21              0.000000\n",
       "AMT_REQ_CREDIT_BUREAU_HOUR    0.135016\n",
       "AMT_REQ_CREDIT_BUREAU_DAY     0.135016\n",
       "AMT_REQ_CREDIT_BUREAU_WEEK    0.135016\n",
       "AMT_REQ_CREDIT_BUREAU_MON     0.135016\n",
       "AMT_REQ_CREDIT_BUREAU_QRT     0.135016\n",
       "AMT_REQ_CREDIT_BUREAU_YEAR    0.135016\n",
       "Length: 122, dtype: float64"
      ]
     },
     "execution_count": 12,
     "metadata": {},
     "output_type": "execute_result"
    }
   ],
   "source": [
    "application_train.isnull().sum()/len(application_train)"
   ]
  },
  {
   "cell_type": "code",
   "execution_count": 13,
   "metadata": {},
   "outputs": [],
   "source": [
    "col_len = len(application_train)"
   ]
  },
  {
   "cell_type": "code",
   "execution_count": 14,
   "metadata": {},
   "outputs": [],
   "source": [
    "#Drop all the columns with more than 10% NaNs\n",
    "application_train.dropna(thresh=0.9*col_len,axis=1,inplace=True)"
   ]
  },
  {
   "cell_type": "code",
   "execution_count": 15,
   "metadata": {},
   "outputs": [],
   "source": [
    "#Drop all the rows that contain NaN values\n",
    "application_train.dropna(axis=0,inplace=True)"
   ]
  },
  {
   "cell_type": "code",
   "execution_count": 16,
   "metadata": {},
   "outputs": [
    {
     "data": {
      "text/plain": [
       "SK_ID_CURR                     0\n",
       "TARGET                         0\n",
       "NAME_CONTRACT_TYPE             0\n",
       "CODE_GENDER                    0\n",
       "FLAG_OWN_CAR                   0\n",
       "FLAG_OWN_REALTY                0\n",
       "CNT_CHILDREN                   0\n",
       "AMT_INCOME_TOTAL               0\n",
       "AMT_CREDIT                     0\n",
       "AMT_ANNUITY                    0\n",
       "AMT_GOODS_PRICE                0\n",
       "NAME_TYPE_SUITE                0\n",
       "NAME_INCOME_TYPE               0\n",
       "NAME_EDUCATION_TYPE            0\n",
       "NAME_FAMILY_STATUS             0\n",
       "NAME_HOUSING_TYPE              0\n",
       "REGION_POPULATION_RELATIVE     0\n",
       "DAYS_BIRTH                     0\n",
       "DAYS_EMPLOYED                  0\n",
       "DAYS_REGISTRATION              0\n",
       "DAYS_ID_PUBLISH                0\n",
       "FLAG_MOBIL                     0\n",
       "FLAG_EMP_PHONE                 0\n",
       "FLAG_WORK_PHONE                0\n",
       "FLAG_CONT_MOBILE               0\n",
       "FLAG_PHONE                     0\n",
       "FLAG_EMAIL                     0\n",
       "CNT_FAM_MEMBERS                0\n",
       "REGION_RATING_CLIENT           0\n",
       "REGION_RATING_CLIENT_W_CITY    0\n",
       "                              ..\n",
       "REG_CITY_NOT_LIVE_CITY         0\n",
       "REG_CITY_NOT_WORK_CITY         0\n",
       "LIVE_CITY_NOT_WORK_CITY        0\n",
       "ORGANIZATION_TYPE              0\n",
       "EXT_SOURCE_2                   0\n",
       "OBS_30_CNT_SOCIAL_CIRCLE       0\n",
       "DEF_30_CNT_SOCIAL_CIRCLE       0\n",
       "OBS_60_CNT_SOCIAL_CIRCLE       0\n",
       "DEF_60_CNT_SOCIAL_CIRCLE       0\n",
       "DAYS_LAST_PHONE_CHANGE         0\n",
       "FLAG_DOCUMENT_2                0\n",
       "FLAG_DOCUMENT_3                0\n",
       "FLAG_DOCUMENT_4                0\n",
       "FLAG_DOCUMENT_5                0\n",
       "FLAG_DOCUMENT_6                0\n",
       "FLAG_DOCUMENT_7                0\n",
       "FLAG_DOCUMENT_8                0\n",
       "FLAG_DOCUMENT_9                0\n",
       "FLAG_DOCUMENT_10               0\n",
       "FLAG_DOCUMENT_11               0\n",
       "FLAG_DOCUMENT_12               0\n",
       "FLAG_DOCUMENT_13               0\n",
       "FLAG_DOCUMENT_14               0\n",
       "FLAG_DOCUMENT_15               0\n",
       "FLAG_DOCUMENT_16               0\n",
       "FLAG_DOCUMENT_17               0\n",
       "FLAG_DOCUMENT_18               0\n",
       "FLAG_DOCUMENT_19               0\n",
       "FLAG_DOCUMENT_20               0\n",
       "FLAG_DOCUMENT_21               0\n",
       "Length: 65, dtype: int64"
      ]
     },
     "execution_count": 16,
     "metadata": {},
     "output_type": "execute_result"
    }
   ],
   "source": [
    "application_train.isnull().sum()"
   ]
  },
  {
   "cell_type": "markdown",
   "metadata": {},
   "source": [
    "I'm not sure what 'FLAG_DOCUMENT' is, so lets drop all these columns. We have plenty of data to work with even without these 21 columns. We will also need to convert most of the other columns to dummies so that we can run the classification properly."
   ]
  },
  {
   "cell_type": "code",
   "execution_count": 17,
   "metadata": {},
   "outputs": [],
   "source": [
    "dropcols = [name for name in application_train.columns if 'DOCUMENT' in name]"
   ]
  },
  {
   "cell_type": "code",
   "execution_count": 18,
   "metadata": {},
   "outputs": [],
   "source": [
    "application_train.drop(dropcols,axis=1,inplace=True)"
   ]
  },
  {
   "cell_type": "code",
   "execution_count": 19,
   "metadata": {},
   "outputs": [
    {
     "data": {
      "text/plain": [
       "Index(['SK_ID_CURR', 'TARGET', 'NAME_CONTRACT_TYPE', 'CODE_GENDER',\n",
       "       'FLAG_OWN_CAR', 'FLAG_OWN_REALTY', 'CNT_CHILDREN', 'AMT_INCOME_TOTAL',\n",
       "       'AMT_CREDIT', 'AMT_ANNUITY', 'AMT_GOODS_PRICE', 'NAME_TYPE_SUITE',\n",
       "       'NAME_INCOME_TYPE', 'NAME_EDUCATION_TYPE', 'NAME_FAMILY_STATUS',\n",
       "       'NAME_HOUSING_TYPE', 'REGION_POPULATION_RELATIVE', 'DAYS_BIRTH',\n",
       "       'DAYS_EMPLOYED', 'DAYS_REGISTRATION', 'DAYS_ID_PUBLISH', 'FLAG_MOBIL',\n",
       "       'FLAG_EMP_PHONE', 'FLAG_WORK_PHONE', 'FLAG_CONT_MOBILE', 'FLAG_PHONE',\n",
       "       'FLAG_EMAIL', 'CNT_FAM_MEMBERS', 'REGION_RATING_CLIENT',\n",
       "       'REGION_RATING_CLIENT_W_CITY', 'WEEKDAY_APPR_PROCESS_START',\n",
       "       'HOUR_APPR_PROCESS_START', 'REG_REGION_NOT_LIVE_REGION',\n",
       "       'REG_REGION_NOT_WORK_REGION', 'LIVE_REGION_NOT_WORK_REGION',\n",
       "       'REG_CITY_NOT_LIVE_CITY', 'REG_CITY_NOT_WORK_CITY',\n",
       "       'LIVE_CITY_NOT_WORK_CITY', 'ORGANIZATION_TYPE', 'EXT_SOURCE_2',\n",
       "       'OBS_30_CNT_SOCIAL_CIRCLE', 'DEF_30_CNT_SOCIAL_CIRCLE',\n",
       "       'OBS_60_CNT_SOCIAL_CIRCLE', 'DEF_60_CNT_SOCIAL_CIRCLE',\n",
       "       'DAYS_LAST_PHONE_CHANGE'],\n",
       "      dtype='object')"
      ]
     },
     "execution_count": 19,
     "metadata": {},
     "output_type": "execute_result"
    }
   ],
   "source": [
    "application_train.columns"
   ]
  },
  {
   "cell_type": "code",
   "execution_count": 20,
   "metadata": {},
   "outputs": [
    {
     "data": {
      "text/plain": [
       "0    0.018801\n",
       "1    0.003541\n",
       "2    0.010032\n",
       "3    0.008019\n",
       "4    0.028663\n",
       "Name: REGION_POPULATION_RELATIVE, dtype: float64"
      ]
     },
     "execution_count": 20,
     "metadata": {},
     "output_type": "execute_result"
    }
   ],
   "source": [
    "application_train['REGION_POPULATION_RELATIVE'].head()"
   ]
  },
  {
   "cell_type": "code",
   "execution_count": 21,
   "metadata": {},
   "outputs": [
    {
     "data": {
      "text/html": [
       "<div>\n",
       "<style scoped>\n",
       "    .dataframe tbody tr th:only-of-type {\n",
       "        vertical-align: middle;\n",
       "    }\n",
       "\n",
       "    .dataframe tbody tr th {\n",
       "        vertical-align: top;\n",
       "    }\n",
       "\n",
       "    .dataframe thead th {\n",
       "        text-align: right;\n",
       "    }\n",
       "</style>\n",
       "<table border=\"1\" class=\"dataframe\">\n",
       "  <thead>\n",
       "    <tr style=\"text-align: right;\">\n",
       "      <th></th>\n",
       "      <th>SK_ID_CURR</th>\n",
       "      <th>TARGET</th>\n",
       "      <th>NAME_CONTRACT_TYPE</th>\n",
       "      <th>CODE_GENDER</th>\n",
       "      <th>FLAG_OWN_CAR</th>\n",
       "      <th>FLAG_OWN_REALTY</th>\n",
       "      <th>CNT_CHILDREN</th>\n",
       "      <th>AMT_INCOME_TOTAL</th>\n",
       "      <th>AMT_CREDIT</th>\n",
       "      <th>AMT_ANNUITY</th>\n",
       "      <th>...</th>\n",
       "      <th>REG_CITY_NOT_LIVE_CITY</th>\n",
       "      <th>REG_CITY_NOT_WORK_CITY</th>\n",
       "      <th>LIVE_CITY_NOT_WORK_CITY</th>\n",
       "      <th>ORGANIZATION_TYPE</th>\n",
       "      <th>EXT_SOURCE_2</th>\n",
       "      <th>OBS_30_CNT_SOCIAL_CIRCLE</th>\n",
       "      <th>DEF_30_CNT_SOCIAL_CIRCLE</th>\n",
       "      <th>OBS_60_CNT_SOCIAL_CIRCLE</th>\n",
       "      <th>DEF_60_CNT_SOCIAL_CIRCLE</th>\n",
       "      <th>DAYS_LAST_PHONE_CHANGE</th>\n",
       "    </tr>\n",
       "  </thead>\n",
       "  <tbody>\n",
       "    <tr>\n",
       "      <th>0</th>\n",
       "      <td>100002</td>\n",
       "      <td>1</td>\n",
       "      <td>Cash loans</td>\n",
       "      <td>M</td>\n",
       "      <td>N</td>\n",
       "      <td>Y</td>\n",
       "      <td>0</td>\n",
       "      <td>202500.0</td>\n",
       "      <td>406597.5</td>\n",
       "      <td>24700.5</td>\n",
       "      <td>...</td>\n",
       "      <td>0</td>\n",
       "      <td>0</td>\n",
       "      <td>0</td>\n",
       "      <td>Business Entity Type 3</td>\n",
       "      <td>0.262949</td>\n",
       "      <td>2.0</td>\n",
       "      <td>2.0</td>\n",
       "      <td>2.0</td>\n",
       "      <td>2.0</td>\n",
       "      <td>-1134.0</td>\n",
       "    </tr>\n",
       "    <tr>\n",
       "      <th>1</th>\n",
       "      <td>100003</td>\n",
       "      <td>0</td>\n",
       "      <td>Cash loans</td>\n",
       "      <td>F</td>\n",
       "      <td>N</td>\n",
       "      <td>N</td>\n",
       "      <td>0</td>\n",
       "      <td>270000.0</td>\n",
       "      <td>1293502.5</td>\n",
       "      <td>35698.5</td>\n",
       "      <td>...</td>\n",
       "      <td>0</td>\n",
       "      <td>0</td>\n",
       "      <td>0</td>\n",
       "      <td>School</td>\n",
       "      <td>0.622246</td>\n",
       "      <td>1.0</td>\n",
       "      <td>0.0</td>\n",
       "      <td>1.0</td>\n",
       "      <td>0.0</td>\n",
       "      <td>-828.0</td>\n",
       "    </tr>\n",
       "    <tr>\n",
       "      <th>2</th>\n",
       "      <td>100004</td>\n",
       "      <td>0</td>\n",
       "      <td>Revolving loans</td>\n",
       "      <td>M</td>\n",
       "      <td>Y</td>\n",
       "      <td>Y</td>\n",
       "      <td>0</td>\n",
       "      <td>67500.0</td>\n",
       "      <td>135000.0</td>\n",
       "      <td>6750.0</td>\n",
       "      <td>...</td>\n",
       "      <td>0</td>\n",
       "      <td>0</td>\n",
       "      <td>0</td>\n",
       "      <td>Government</td>\n",
       "      <td>0.555912</td>\n",
       "      <td>0.0</td>\n",
       "      <td>0.0</td>\n",
       "      <td>0.0</td>\n",
       "      <td>0.0</td>\n",
       "      <td>-815.0</td>\n",
       "    </tr>\n",
       "    <tr>\n",
       "      <th>3</th>\n",
       "      <td>100006</td>\n",
       "      <td>0</td>\n",
       "      <td>Cash loans</td>\n",
       "      <td>F</td>\n",
       "      <td>N</td>\n",
       "      <td>Y</td>\n",
       "      <td>0</td>\n",
       "      <td>135000.0</td>\n",
       "      <td>312682.5</td>\n",
       "      <td>29686.5</td>\n",
       "      <td>...</td>\n",
       "      <td>0</td>\n",
       "      <td>0</td>\n",
       "      <td>0</td>\n",
       "      <td>Business Entity Type 3</td>\n",
       "      <td>0.650442</td>\n",
       "      <td>2.0</td>\n",
       "      <td>0.0</td>\n",
       "      <td>2.0</td>\n",
       "      <td>0.0</td>\n",
       "      <td>-617.0</td>\n",
       "    </tr>\n",
       "    <tr>\n",
       "      <th>4</th>\n",
       "      <td>100007</td>\n",
       "      <td>0</td>\n",
       "      <td>Cash loans</td>\n",
       "      <td>M</td>\n",
       "      <td>N</td>\n",
       "      <td>Y</td>\n",
       "      <td>0</td>\n",
       "      <td>121500.0</td>\n",
       "      <td>513000.0</td>\n",
       "      <td>21865.5</td>\n",
       "      <td>...</td>\n",
       "      <td>0</td>\n",
       "      <td>1</td>\n",
       "      <td>1</td>\n",
       "      <td>Religion</td>\n",
       "      <td>0.322738</td>\n",
       "      <td>0.0</td>\n",
       "      <td>0.0</td>\n",
       "      <td>0.0</td>\n",
       "      <td>0.0</td>\n",
       "      <td>-1106.0</td>\n",
       "    </tr>\n",
       "  </tbody>\n",
       "</table>\n",
       "<p>5 rows × 45 columns</p>\n",
       "</div>"
      ],
      "text/plain": [
       "   SK_ID_CURR  TARGET NAME_CONTRACT_TYPE CODE_GENDER FLAG_OWN_CAR  \\\n",
       "0      100002       1         Cash loans           M            N   \n",
       "1      100003       0         Cash loans           F            N   \n",
       "2      100004       0    Revolving loans           M            Y   \n",
       "3      100006       0         Cash loans           F            N   \n",
       "4      100007       0         Cash loans           M            N   \n",
       "\n",
       "  FLAG_OWN_REALTY  CNT_CHILDREN  AMT_INCOME_TOTAL  AMT_CREDIT  AMT_ANNUITY  \\\n",
       "0               Y             0          202500.0    406597.5      24700.5   \n",
       "1               N             0          270000.0   1293502.5      35698.5   \n",
       "2               Y             0           67500.0    135000.0       6750.0   \n",
       "3               Y             0          135000.0    312682.5      29686.5   \n",
       "4               Y             0          121500.0    513000.0      21865.5   \n",
       "\n",
       "            ...            REG_CITY_NOT_LIVE_CITY REG_CITY_NOT_WORK_CITY  \\\n",
       "0           ...                                 0                      0   \n",
       "1           ...                                 0                      0   \n",
       "2           ...                                 0                      0   \n",
       "3           ...                                 0                      0   \n",
       "4           ...                                 0                      1   \n",
       "\n",
       "  LIVE_CITY_NOT_WORK_CITY       ORGANIZATION_TYPE EXT_SOURCE_2  \\\n",
       "0                       0  Business Entity Type 3     0.262949   \n",
       "1                       0                  School     0.622246   \n",
       "2                       0              Government     0.555912   \n",
       "3                       0  Business Entity Type 3     0.650442   \n",
       "4                       1                Religion     0.322738   \n",
       "\n",
       "  OBS_30_CNT_SOCIAL_CIRCLE  DEF_30_CNT_SOCIAL_CIRCLE  \\\n",
       "0                      2.0                       2.0   \n",
       "1                      1.0                       0.0   \n",
       "2                      0.0                       0.0   \n",
       "3                      2.0                       0.0   \n",
       "4                      0.0                       0.0   \n",
       "\n",
       "   OBS_60_CNT_SOCIAL_CIRCLE  DEF_60_CNT_SOCIAL_CIRCLE  DAYS_LAST_PHONE_CHANGE  \n",
       "0                       2.0                       2.0                 -1134.0  \n",
       "1                       1.0                       0.0                  -828.0  \n",
       "2                       0.0                       0.0                  -815.0  \n",
       "3                       2.0                       0.0                  -617.0  \n",
       "4                       0.0                       0.0                 -1106.0  \n",
       "\n",
       "[5 rows x 45 columns]"
      ]
     },
     "execution_count": 21,
     "metadata": {},
     "output_type": "execute_result"
    }
   ],
   "source": [
    "application_train.head()"
   ]
  },
  {
   "cell_type": "markdown",
   "metadata": {},
   "source": [
    "Since most of these columns are string, we need to convert them to categorial variables for training. We can also choose a subset of the other columns to train on. This is not very rigorous at the moment - a better idea would be to use all the columns initially then use feature selection tools to refine the choice"
   ]
  },
  {
   "cell_type": "code",
   "execution_count": 22,
   "metadata": {},
   "outputs": [],
   "source": [
    "contract_dummies = pd.get_dummies(application_train['NAME_CONTRACT_TYPE'],drop_first=True)\n",
    "gender_dummies = pd.get_dummies(application_train['CODE_GENDER'],drop_first=True)\n",
    "car_dummies = pd.get_dummies(application_train['FLAG_OWN_CAR'],drop_first=True)\n",
    "children_count = application_train['CNT_CHILDREN']\n",
    "total_income = application_train['AMT_INCOME_TOTAL']\n",
    "total_credit = application_train['AMT_CREDIT']\n",
    "total_annuity = application_train['AMT_ANNUITY']\n",
    "total_goods_price = application_train['AMT_GOODS_PRICE']\n",
    "age_days = application_train['DAYS_BIRTH'].apply(lambda x: -1*x)\n",
    "employed_days = application_train['DAYS_EMPLOYED'].apply(lambda x: -1*x)\n",
    "registered_days = application_train['DAYS_REGISTRATION'].apply(lambda x: -1*x)\n",
    "family_members_count = application_train['CNT_FAM_MEMBERS']\n",
    "realty_dummies = pd.get_dummies(application_train['FLAG_OWN_REALTY'],drop_first=True)\n",
    "income_type_dummies = pd.get_dummies(application_train['NAME_INCOME_TYPE'],drop_first=True)\n",
    "education_type_dummies = pd.get_dummies(application_train['NAME_EDUCATION_TYPE'],drop_first=True)\n",
    "marriage_type_dummies = pd.get_dummies(application_train['NAME_FAMILY_STATUS'],drop_first=True)\n",
    "house_type_dummies = pd.get_dummies(application_train['NAME_HOUSING_TYPE'],drop_first=True)\n",
    "mobile_dummies = pd.get_dummies(application_train['FLAG_MOBIL'],drop_first=True)\n",
    "email_dummies = pd.get_dummies(application_train['FLAG_EMAIL'],drop_first=True)\n",
    "organization_type_dummies = pd.get_dummies(application_train['ORGANIZATION_TYPE'],drop_first=True)\n",
    "target = application_train['TARGET']"
   ]
  },
  {
   "cell_type": "markdown",
   "metadata": {},
   "source": [
    "We now need to concatinate these dataframes"
   ]
  },
  {
   "cell_type": "code",
   "execution_count": 23,
   "metadata": {},
   "outputs": [],
   "source": [
    "df_training = pd.concat([contract_dummies,car_dummies],axis=1)\n",
    "components = [gender_dummies,children_count,total_income,total_annuity,total_goods_price,total_credit,\n",
    "     age_days,employed_days,registered_days,family_members_count,realty_dummies,income_type_dummies,\n",
    "      education_type_dummies,marriage_type_dummies,house_type_dummies,mobile_dummies,email_dummies,\n",
    "      organization_type_dummies,target]\n",
    "\n",
    "for dataframe in components:  \n",
    "    df_training = pd.concat([df_training,dataframe],axis=1)"
   ]
  },
  {
   "cell_type": "markdown",
   "metadata": {},
   "source": [
    "Remove all rows there XNA == 1, since this indicates that there was an issue with formning the dummy variables"
   ]
  },
  {
   "cell_type": "code",
   "execution_count": 24,
   "metadata": {},
   "outputs": [],
   "source": [
    "cnames = list(df_training.columns)\n",
    "cnames[3] = 'XNA_1'\n",
    "cnames[-2] = 'XNA_2'\n",
    "df_training.columns = cnames\n",
    "df_training = df_training[(df_training['XNA_1']==0) & (df_training['XNA_2']==0)].drop(\n",
    "    ['XNA_1','XNA_2'],axis=1)"
   ]
  },
  {
   "cell_type": "code",
   "execution_count": 25,
   "metadata": {},
   "outputs": [
    {
     "data": {
      "text/html": [
       "<div>\n",
       "<style scoped>\n",
       "    .dataframe tbody tr th:only-of-type {\n",
       "        vertical-align: middle;\n",
       "    }\n",
       "\n",
       "    .dataframe tbody tr th {\n",
       "        vertical-align: top;\n",
       "    }\n",
       "\n",
       "    .dataframe thead th {\n",
       "        text-align: right;\n",
       "    }\n",
       "</style>\n",
       "<table border=\"1\" class=\"dataframe\">\n",
       "  <thead>\n",
       "    <tr style=\"text-align: right;\">\n",
       "      <th></th>\n",
       "      <th>Revolving loans</th>\n",
       "      <th>Y</th>\n",
       "      <th>M</th>\n",
       "      <th>CNT_CHILDREN</th>\n",
       "      <th>AMT_INCOME_TOTAL</th>\n",
       "      <th>AMT_ANNUITY</th>\n",
       "      <th>AMT_GOODS_PRICE</th>\n",
       "      <th>AMT_CREDIT</th>\n",
       "      <th>DAYS_BIRTH</th>\n",
       "      <th>DAYS_EMPLOYED</th>\n",
       "      <th>...</th>\n",
       "      <th>Trade: type 4</th>\n",
       "      <th>Trade: type 5</th>\n",
       "      <th>Trade: type 6</th>\n",
       "      <th>Trade: type 7</th>\n",
       "      <th>Transport: type 1</th>\n",
       "      <th>Transport: type 2</th>\n",
       "      <th>Transport: type 3</th>\n",
       "      <th>Transport: type 4</th>\n",
       "      <th>University</th>\n",
       "      <th>TARGET</th>\n",
       "    </tr>\n",
       "  </thead>\n",
       "  <tbody>\n",
       "    <tr>\n",
       "      <th>0</th>\n",
       "      <td>0</td>\n",
       "      <td>0</td>\n",
       "      <td>1</td>\n",
       "      <td>0</td>\n",
       "      <td>202500.0</td>\n",
       "      <td>24700.5</td>\n",
       "      <td>351000.0</td>\n",
       "      <td>406597.5</td>\n",
       "      <td>9461</td>\n",
       "      <td>637</td>\n",
       "      <td>...</td>\n",
       "      <td>0</td>\n",
       "      <td>0</td>\n",
       "      <td>0</td>\n",
       "      <td>0</td>\n",
       "      <td>0</td>\n",
       "      <td>0</td>\n",
       "      <td>0</td>\n",
       "      <td>0</td>\n",
       "      <td>0</td>\n",
       "      <td>1</td>\n",
       "    </tr>\n",
       "    <tr>\n",
       "      <th>1</th>\n",
       "      <td>0</td>\n",
       "      <td>0</td>\n",
       "      <td>0</td>\n",
       "      <td>0</td>\n",
       "      <td>270000.0</td>\n",
       "      <td>35698.5</td>\n",
       "      <td>1129500.0</td>\n",
       "      <td>1293502.5</td>\n",
       "      <td>16765</td>\n",
       "      <td>1188</td>\n",
       "      <td>...</td>\n",
       "      <td>0</td>\n",
       "      <td>0</td>\n",
       "      <td>0</td>\n",
       "      <td>0</td>\n",
       "      <td>0</td>\n",
       "      <td>0</td>\n",
       "      <td>0</td>\n",
       "      <td>0</td>\n",
       "      <td>0</td>\n",
       "      <td>0</td>\n",
       "    </tr>\n",
       "    <tr>\n",
       "      <th>2</th>\n",
       "      <td>1</td>\n",
       "      <td>1</td>\n",
       "      <td>1</td>\n",
       "      <td>0</td>\n",
       "      <td>67500.0</td>\n",
       "      <td>6750.0</td>\n",
       "      <td>135000.0</td>\n",
       "      <td>135000.0</td>\n",
       "      <td>19046</td>\n",
       "      <td>225</td>\n",
       "      <td>...</td>\n",
       "      <td>0</td>\n",
       "      <td>0</td>\n",
       "      <td>0</td>\n",
       "      <td>0</td>\n",
       "      <td>0</td>\n",
       "      <td>0</td>\n",
       "      <td>0</td>\n",
       "      <td>0</td>\n",
       "      <td>0</td>\n",
       "      <td>0</td>\n",
       "    </tr>\n",
       "    <tr>\n",
       "      <th>3</th>\n",
       "      <td>0</td>\n",
       "      <td>0</td>\n",
       "      <td>0</td>\n",
       "      <td>0</td>\n",
       "      <td>135000.0</td>\n",
       "      <td>29686.5</td>\n",
       "      <td>297000.0</td>\n",
       "      <td>312682.5</td>\n",
       "      <td>19005</td>\n",
       "      <td>3039</td>\n",
       "      <td>...</td>\n",
       "      <td>0</td>\n",
       "      <td>0</td>\n",
       "      <td>0</td>\n",
       "      <td>0</td>\n",
       "      <td>0</td>\n",
       "      <td>0</td>\n",
       "      <td>0</td>\n",
       "      <td>0</td>\n",
       "      <td>0</td>\n",
       "      <td>0</td>\n",
       "    </tr>\n",
       "    <tr>\n",
       "      <th>4</th>\n",
       "      <td>0</td>\n",
       "      <td>0</td>\n",
       "      <td>1</td>\n",
       "      <td>0</td>\n",
       "      <td>121500.0</td>\n",
       "      <td>21865.5</td>\n",
       "      <td>513000.0</td>\n",
       "      <td>513000.0</td>\n",
       "      <td>19932</td>\n",
       "      <td>3038</td>\n",
       "      <td>...</td>\n",
       "      <td>0</td>\n",
       "      <td>0</td>\n",
       "      <td>0</td>\n",
       "      <td>0</td>\n",
       "      <td>0</td>\n",
       "      <td>0</td>\n",
       "      <td>0</td>\n",
       "      <td>0</td>\n",
       "      <td>0</td>\n",
       "      <td>0</td>\n",
       "    </tr>\n",
       "  </tbody>\n",
       "</table>\n",
       "<p>5 rows × 91 columns</p>\n",
       "</div>"
      ],
      "text/plain": [
       "   Revolving loans  Y  M  CNT_CHILDREN  AMT_INCOME_TOTAL  AMT_ANNUITY  \\\n",
       "0                0  0  1             0          202500.0      24700.5   \n",
       "1                0  0  0             0          270000.0      35698.5   \n",
       "2                1  1  1             0           67500.0       6750.0   \n",
       "3                0  0  0             0          135000.0      29686.5   \n",
       "4                0  0  1             0          121500.0      21865.5   \n",
       "\n",
       "   AMT_GOODS_PRICE  AMT_CREDIT  DAYS_BIRTH  DAYS_EMPLOYED   ...    \\\n",
       "0         351000.0    406597.5        9461            637   ...     \n",
       "1        1129500.0   1293502.5       16765           1188   ...     \n",
       "2         135000.0    135000.0       19046            225   ...     \n",
       "3         297000.0    312682.5       19005           3039   ...     \n",
       "4         513000.0    513000.0       19932           3038   ...     \n",
       "\n",
       "   Trade: type 4  Trade: type 5  Trade: type 6  Trade: type 7  \\\n",
       "0              0              0              0              0   \n",
       "1              0              0              0              0   \n",
       "2              0              0              0              0   \n",
       "3              0              0              0              0   \n",
       "4              0              0              0              0   \n",
       "\n",
       "   Transport: type 1  Transport: type 2  Transport: type 3  Transport: type 4  \\\n",
       "0                  0                  0                  0                  0   \n",
       "1                  0                  0                  0                  0   \n",
       "2                  0                  0                  0                  0   \n",
       "3                  0                  0                  0                  0   \n",
       "4                  0                  0                  0                  0   \n",
       "\n",
       "   University  TARGET  \n",
       "0           0       1  \n",
       "1           0       0  \n",
       "2           0       0  \n",
       "3           0       0  \n",
       "4           0       0  \n",
       "\n",
       "[5 rows x 91 columns]"
      ]
     },
     "execution_count": 25,
     "metadata": {},
     "output_type": "execute_result"
    }
   ],
   "source": [
    "df_training.head()"
   ]
  },
  {
   "cell_type": "markdown",
   "metadata": {},
   "source": [
    "We now need to change the labels of some of the keyes and scale the data. Then we can start testing classifiers"
   ]
  },
  {
   "cell_type": "code",
   "execution_count": 26,
   "metadata": {},
   "outputs": [],
   "source": [
    "column_names = list(df_training.columns)\n",
    "column_names[1] = 'Own car'\n",
    "column_names[2] = 'Male'\n",
    "column_names[12] = 'Own realty'\n",
    "column_names[33] = 'Unknown' #this is not ideal - should try to fix later\n",
    "df_training.columns = column_names"
   ]
  },
  {
   "cell_type": "code",
   "execution_count": 27,
   "metadata": {},
   "outputs": [
    {
     "data": {
      "text/plain": [
       "Index(['Revolving loans', 'Own car', 'Male', 'CNT_CHILDREN',\n",
       "       'AMT_INCOME_TOTAL', 'AMT_ANNUITY', 'AMT_GOODS_PRICE', 'AMT_CREDIT',\n",
       "       'DAYS_BIRTH', 'DAYS_EMPLOYED', 'DAYS_REGISTRATION', 'CNT_FAM_MEMBERS',\n",
       "       'Own realty', 'Commercial associate', 'Maternity leave', 'Pensioner',\n",
       "       'State servant', 'Student', 'Unemployed', 'Working', 'Higher education',\n",
       "       'Incomplete higher', 'Lower secondary', 'Secondary / secondary special',\n",
       "       'Married', 'Separated', 'Single / not married', 'Widow',\n",
       "       'House / apartment', 'Municipal apartment', 'Office apartment',\n",
       "       'Rented apartment', 'With parents', 'Unknown', 'Agriculture', 'Bank',\n",
       "       'Business Entity Type 1', 'Business Entity Type 2',\n",
       "       'Business Entity Type 3', 'Cleaning', 'Construction', 'Culture',\n",
       "       'Electricity', 'Emergency', 'Government', 'Hotel', 'Housing',\n",
       "       'Industry: type 1', 'Industry: type 10', 'Industry: type 11',\n",
       "       'Industry: type 12', 'Industry: type 13', 'Industry: type 2',\n",
       "       'Industry: type 3', 'Industry: type 4', 'Industry: type 5',\n",
       "       'Industry: type 6', 'Industry: type 7', 'Industry: type 8',\n",
       "       'Industry: type 9', 'Insurance', 'Kindergarten', 'Legal Services',\n",
       "       'Medicine', 'Military', 'Mobile', 'Other', 'Police', 'Postal',\n",
       "       'Realtor', 'Religion', 'Restaurant', 'School', 'Security',\n",
       "       'Security Ministries', 'Self-employed', 'Services', 'Telecom',\n",
       "       'Trade: type 1', 'Trade: type 2', 'Trade: type 3', 'Trade: type 4',\n",
       "       'Trade: type 5', 'Trade: type 6', 'Trade: type 7', 'Transport: type 1',\n",
       "       'Transport: type 2', 'Transport: type 3', 'Transport: type 4',\n",
       "       'University', 'TARGET'],\n",
       "      dtype='object')"
      ]
     },
     "execution_count": 27,
     "metadata": {},
     "output_type": "execute_result"
    }
   ],
   "source": [
    "df_training.columns"
   ]
  },
  {
   "cell_type": "markdown",
   "metadata": {},
   "source": [
    "Since this dataset has wide range of column values, it might be good practice to scale it first before preoceeding. There are a few different scalers to investigate"
   ]
  },
  {
   "cell_type": "code",
   "execution_count": 28,
   "metadata": {},
   "outputs": [],
   "source": [
    "target = df_training['TARGET']\n",
    "df_training.drop('TARGET',axis=1,inplace=True)"
   ]
  },
  {
   "cell_type": "code",
   "execution_count": 29,
   "metadata": {},
   "outputs": [],
   "source": [
    "le = LabelEncoder()"
   ]
  },
  {
   "cell_type": "code",
   "execution_count": 30,
   "metadata": {},
   "outputs": [],
   "source": [
    "le.fit(target)\n",
    "target_vals = le.transform(target)"
   ]
  },
  {
   "cell_type": "code",
   "execution_count": 31,
   "metadata": {},
   "outputs": [],
   "source": [
    "from sklearn.preprocessing import StandardScaler, RobustScaler, MinMaxScaler"
   ]
  },
  {
   "cell_type": "code",
   "execution_count": 32,
   "metadata": {},
   "outputs": [],
   "source": [
    "#This removes the mean and scales to unit variance\n",
    "df_standard_scaled = StandardScaler().fit_transform(df_training)\n",
    "#This removes the median and scales to IQR\n",
    "df_robust_scaled = RobustScaler().fit_transform(df_training)\n",
    "#This scales features to a given range\n",
    "df_minmax_scaled = MinMaxScaler().fit_transform(df_training)"
   ]
  },
  {
   "cell_type": "code",
   "execution_count": 33,
   "metadata": {},
   "outputs": [],
   "source": [
    "#Lets start by using an SVM classfier to see what we get\n",
    "from sklearn.svm import SVC, OneClassSVM\n",
    "#need to do a train-test split\n",
    "from sklearn.model_selection import train_test_split\n",
    "#for error reporting\n",
    "from sklearn.metrics import classification_report, confusion_matrix"
   ]
  },
  {
   "cell_type": "code",
   "execution_count": 34,
   "metadata": {},
   "outputs": [],
   "source": [
    "X_train, X_test, y_train, y_test = train_test_split(df_standard_scaled,target,test_size=0.3)"
   ]
  },
  {
   "cell_type": "code",
   "execution_count": null,
   "metadata": {},
   "outputs": [],
   "source": [
    "%%time\n",
    "clf = SVC(class_weight='balanced')\n",
    "clf.fit(X_train,y_train)"
   ]
  },
  {
   "cell_type": "markdown",
   "metadata": {},
   "source": [
    "This takes a long time to train!"
   ]
  },
  {
   "cell_type": "code",
   "execution_count": 36,
   "metadata": {},
   "outputs": [],
   "source": [
    "#We can also try classification with a random forest \n",
    "from sklearn.ensemble import RandomForestClassifier"
   ]
  },
  {
   "cell_type": "code",
   "execution_count": 45,
   "metadata": {},
   "outputs": [],
   "source": [
    "rfc = RandomForestClassifier(class_weight='balanced',n_estimators=200)"
   ]
  },
  {
   "cell_type": "code",
   "execution_count": 46,
   "metadata": {},
   "outputs": [
    {
     "name": "stdout",
     "output_type": "stream",
     "text": [
      "CPU times: user 1min 30s, sys: 1.2 s, total: 1min 31s\n",
      "Wall time: 1min 32s\n"
     ]
    },
    {
     "data": {
      "text/plain": [
       "RandomForestClassifier(bootstrap=True, class_weight='balanced',\n",
       "            criterion='gini', max_depth=None, max_features='auto',\n",
       "            max_leaf_nodes=None, min_impurity_decrease=0.0,\n",
       "            min_impurity_split=None, min_samples_leaf=1,\n",
       "            min_samples_split=2, min_weight_fraction_leaf=0.0,\n",
       "            n_estimators=200, n_jobs=1, oob_score=False, random_state=None,\n",
       "            verbose=0, warm_start=False)"
      ]
     },
     "execution_count": 46,
     "metadata": {},
     "output_type": "execute_result"
    }
   ],
   "source": [
    "%%time\n",
    "rfc.fit(X_train,y_train)"
   ]
  },
  {
   "cell_type": "code",
   "execution_count": 47,
   "metadata": {},
   "outputs": [
    {
     "name": "stdout",
     "output_type": "stream",
     "text": [
      "Test score: 1.000000, Train score: 0.912580\n"
     ]
    }
   ],
   "source": [
    "train_score = rfc.score(X_train,y_train)\n",
    "test_score = rfc.score(X_test,y_test)\n",
    "print(\"Test score: %f, Train score: %f\" %(train_score,test_score))"
   ]
  },
  {
   "cell_type": "code",
   "execution_count": 48,
   "metadata": {},
   "outputs": [
    {
     "name": "stdout",
     "output_type": "stream",
     "text": [
      "             precision    recall  f1-score   support\n",
      "\n",
      "          0       0.91      1.00      0.95     68352\n",
      "          1       1.00      0.00      0.00      6551\n",
      "\n",
      "avg / total       0.92      0.91      0.87     74903\n",
      "\n"
     ]
    }
   ],
   "source": [
    "print(classification_report(y_test,rfc.predict(X_test)))"
   ]
  },
  {
   "cell_type": "markdown",
   "metadata": {},
   "source": [
    "Mean recall is higher than precision,vwhich might suggest that the model is better at dealing with false negatives than false positives. This is probably a good thing in this situation since a false negative is a customer who defaults but is predicted not to default - we want to avoud this as far as possible. HOWEVER! The recall for default predictions is 0.0! \n",
    "\n",
    "However lets look at the confusion matrix"
   ]
  },
  {
   "cell_type": "code",
   "execution_count": 49,
   "metadata": {},
   "outputs": [
    {
     "name": "stdout",
     "output_type": "stream",
     "text": [
      "[[68352     0]\n",
      " [ 6548     3]]\n"
     ]
    }
   ],
   "source": [
    "print(confusion_matrix(y_test,rfc.predict(X_test)))"
   ]
  },
  {
   "cell_type": "markdown",
   "metadata": {},
   "source": [
    "This is really bad! There are only 3 true negatives predicted. Most of the times default occurences are missed and miscalssified as a non-default. Only 3 out of 6551 defaults are correctly identified! This highlights the fact that random forests is probably a bad choice with very unbalanced classification probems"
   ]
  },
  {
   "cell_type": "code",
   "execution_count": null,
   "metadata": {},
   "outputs": [],
   "source": [
    "%%time\n",
    "clf = OneClassSVM(nu=0.1, kernel=\"rbf\", gamma=0.1)\n",
    "clf.fit(X_train)"
   ]
  },
  {
   "cell_type": "code",
   "execution_count": null,
   "metadata": {},
   "outputs": [],
   "source": []
  }
 ],
 "metadata": {
  "kernelspec": {
   "display_name": "Python 3",
   "language": "python",
   "name": "python3"
  },
  "language_info": {
   "codemirror_mode": {
    "name": "ipython",
    "version": 3
   },
   "file_extension": ".py",
   "mimetype": "text/x-python",
   "name": "python",
   "nbconvert_exporter": "python",
   "pygments_lexer": "ipython3",
   "version": "3.6.4"
  }
 },
 "nbformat": 4,
 "nbformat_minor": 2
}
