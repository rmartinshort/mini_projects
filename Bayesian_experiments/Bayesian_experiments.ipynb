{
 "cells": [
  {
   "cell_type": "markdown",
   "metadata": {},
   "source": [
    "### Parameter estimation in Bayesian statistics"
   ]
  },
  {
   "cell_type": "markdown",
   "metadata": {},
   "source": [
    "#### Example 1 "
   ]
  },
  {
   "cell_type": "markdown",
   "metadata": {},
   "source": [
    "This is a simple but powerful example from Data Analysis by D.S Silva. We have a coin whose bias we want to investigate.  \n",
    "How do we determine whether or not the coin is fair?  \n",
    "\n",
    "To do so, we use Baysian statistics. We want to estimate P(H | data) where H is the value between 0 and 1 that denotes the chance that\n",
    "the coin will land on heads. Obviously a fair coin will have a H value of 0.5.  \n",
    "\n",
    "We know that P(H | data) = P( data | H ) * P(H)  \n",
    "\n",
    "We know nothing about P(H) (the prior), so lets start by assuming that its a flat distribution.\n",
    "\n",
    "P(data | H ) is going to be a binomial distribution, since its the chance of seeing some heads and tails given the value of H that\n",
    "has been chosen. In a numerical simulation the H values are just given on the X axis of our plot.\n",
    "\n",
    "In a simulation, we will choose to vary N, the number of coin tosses. We will choose a value of H and then see how the estimate of \n",
    "P(H | data) changes as we get more data. How much data do we need before we get to a good estimate? This is a good question that we\n",
    "will seek to investigate."
   ]
  },
  {
   "cell_type": "code",
   "execution_count": 70,
   "metadata": {},
   "outputs": [],
   "source": [
    "import numpy as np\n",
    "import matplotlib.pyplot as plt\n",
    "%matplotlib inline"
   ]
  },
  {
   "cell_type": "code",
   "execution_count": 71,
   "metadata": {},
   "outputs": [],
   "source": [
    "def cointoss(N,H):\n",
    "    \n",
    "    '''Simulate N coin tosses for a H value\n",
    "    If the random number is smaller than H, we say we have a head. \n",
    "    If not, we have a tail\n",
    "    '''\n",
    "    \n",
    "    headcount = 0\n",
    "    \n",
    "    for j in range(1,N):\n",
    "        \n",
    "        v = np.random.rand()\n",
    "        if (0 <= v < H): \n",
    "            headcount += 1\n",
    "            \n",
    "    return headcount\n",
    "\n",
    "def P_data_given_H(H,N,R):\n",
    "    \n",
    "    '''Find the posterior distribution\n",
    "    \n",
    "    N - total number of coin tosses\n",
    "    R - total number of heads \n",
    "    H - range of H\n",
    "    \n",
    "    Note that as (N-R) becomes large this will underflow. There may be a way around this by taking logs\n",
    "    and then reforming the small number\n",
    "    \n",
    "    '''\n",
    "    \n",
    "    return np.power(H,R)*np.power((1-H),(N-R))\n",
    "\n",
    "def P_H(dist):\n",
    "    \n",
    "    return dist*1.0\n"
   ]
  },
  {
   "cell_type": "code",
   "execution_count": 72,
   "metadata": {},
   "outputs": [
    {
     "data": {
      "image/png": "[encoded data removed]",
      "text/plain": [
       "<matplotlib.figure.Figure at 0x110415898>"
      ]
     },
     "metadata": {},
     "output_type": "display_data"
    }
   ],
   "source": [
    "ntosses = 1001\n",
    "Hval = 0.25\n",
    "\n",
    "#As the number of coin tosses increases, the distribution tightens\n",
    "#This means that we become more confident in our H value. This is an example of a very simple statistical \n",
    "#experiment\n",
    "\n",
    "H = np.linspace(0,1,1000)\n",
    "       \n",
    "headcount = cointoss(ntosses,Hval)\n",
    "dist1 = P_data_given_H(H,ntosses,headcount)\n",
    "final_dist = P_H(dist1)\n",
    "        \n",
    "ax = plt.subplot(111)\n",
    "ax.plot(H,final_dist)\n",
    "ax.set_xlabel('H')\n",
    "ax.set_ylabel('Prob (H | data)')\n",
    "#ax.yaxis.set_visible(False)\n",
    "ax.grid()\n"
   ]
  }
 ],
 "metadata": {
  "kernelspec": {
   "display_name": "Python 3",
   "language": "python",
   "name": "python3"
  },
  "language_info": {
   "codemirror_mode": {
    "name": "ipython",
    "version": 3
   },
   "file_extension": ".py",
   "mimetype": "text/x-python",
   "name": "python",
   "nbconvert_exporter": "python",
   "pygments_lexer": "ipython3",
   "version": "3.6.4"
  }
 },
 "nbformat": 4,
 "nbformat_minor": 2
}
